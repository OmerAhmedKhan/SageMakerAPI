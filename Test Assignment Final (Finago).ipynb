{
 "cells": [
  {
   "cell_type": "markdown",
   "id": "taken-maximum",
   "metadata": {},
   "source": [
    "## Test Assignment"
   ]
  },
  {
   "cell_type": "markdown",
   "id": "framed-profit",
   "metadata": {},
   "source": [
    "Let me grab my tools for work. Need to know your stuff\n",
    "\n",
    "You need to borrow them from  Python Garage Remove comment out pip installation from below code"
   ]
  },
  {
   "cell_type": "code",
   "execution_count": 1,
   "id": "fundamental-clothing",
   "metadata": {},
   "outputs": [],
   "source": [
    "#! pip install --user -U seaborn sklearn pandas imblearn\n",
    "import pandas as pd\n",
    "import numpy as np\n",
    "import matplotlib.pyplot as plt\n",
    "import matplotlib.patches as mpatches\n",
    "import seaborn as sns"
   ]
  },
  {
   "cell_type": "code",
   "execution_count": 2,
   "id": "periodic-reset",
   "metadata": {},
   "outputs": [],
   "source": [
    "from sklearn import preprocessing\n",
    "from sklearn.dummy import DummyClassifier\n",
    "from sklearn.manifold import TSNE\n",
    "from sklearn.decomposition import PCA, TruncatedSVD\n",
    "from sklearn.model_selection import train_test_split, GridSearchCV, StratifiedKFold, cross_val_score\n",
    "from sklearn.metrics import precision_recall_curve, plot_precision_recall_curve\n",
    "from sklearn.metrics import precision_score, recall_score, f1_score, roc_auc_score, accuracy_score, classification_report\n",
    "from sklearn.neighbors import KNeighborsClassifier\n",
    "from sklearn.svm import SVC\n",
    "from sklearn.linear_model import LogisticRegression\n",
    "from sklearn.tree import DecisionTreeClassifier\n",
    "from sklearn.ensemble import RandomForestClassifier\n",
    "from sklearn.multiclass import OneVsRestClassifier\n",
    "import joblib\n",
    "\n",
    "## For under and over sampling\n",
    "from imblearn.under_sampling import ClusterCentroids \n",
    "from collections import Counter\n",
    "from imblearn.over_sampling import SMOTE, SMOTEN"
   ]
  },
  {
   "cell_type": "code",
   "execution_count": 3,
   "id": "posted-plastic",
   "metadata": {},
   "outputs": [],
   "source": [
    "classifiers = {\n",
    "    \"Dummy\": DummyClassifier(strategy=\"most_frequent\"),\n",
    "    #\"LogisiticRegression\": LogisticRegression(),\n",
    "    \"KNearest\": KNeighborsClassifier(),\n",
    "    \"DecisionTreeClassifier\": DecisionTreeClassifier(),\n",
    "    \"Randomforrest\": RandomForestClassifier()\n",
    "}"
   ]
  },
  {
   "cell_type": "code",
   "execution_count": 4,
   "id": "manufactured-configuration",
   "metadata": {},
   "outputs": [],
   "source": [
    "def evaluate_classfiers(X_train, y_train, X_test, y_test):\n",
    "    f_scores = {}\n",
    "    for key, classifier in classifiers.items():\n",
    "        classifier.fit(X_train, y_train)\n",
    "        #training_score = cross_val_score(classifier, X_test, y_test, cv=5)\n",
    "        #print(\"Classifiers: \", classifier.__class__.__name__, \"Has a trainign score of\", round(training_score.mean(), 2) * 100, \"% accuracy score\")\n",
    "        print(\"Classifiers: \", classifier.__class__.__name__)\n",
    "        print('Following is an evaluation report:')\n",
    "        predictions = classifier.predict(X_test)\n",
    "        f_scores[classifier.__class__.__name__] = evaluate_model(y_test, predictions)\n",
    "    \n",
    "    return f_scores"
   ]
  },
  {
   "cell_type": "markdown",
   "id": "awful-longer",
   "metadata": {},
   "source": [
    "We need to score our work, so defining some magic method to do this for us. Some information\n",
    "\n",
    "**Accuracy**: Accuracy classification score. <br />\n",
    "**Precision**: The precision is intuitively the ability of the classifier not to label as positive a sample that is negative.<br />\n",
    "**Recall**: The recall is intuitively the ability of the classifier to find all the positive samples.<br />\n",
    "**F1 Score**: The F1 score can be interpreted as a weighted average of the precision and recall, where an F1 score reaches its best value at 1 and worst score at 0."
   ]
  },
  {
   "cell_type": "code",
   "execution_count": 5,
   "id": "creative-danish",
   "metadata": {},
   "outputs": [],
   "source": [
    "def evaluate_model(original_ytest, predicitons, strategy='weighted'):\n",
    "    labels = ['class 0', 'class 1']\n",
    "    print(\"Accuracy: {}\".format(accuracy_score(original_ytest, predicitons)))\n",
    "    print(\"precision: {}\".format(precision_score(original_ytest, predicitons, average=strategy)))\n",
    "    print(\"recall: {}\".format(recall_score(original_ytest, predicitons, average=strategy)))\n",
    "    f1_score_value = f1_score(original_ytest, predicitons, average=strategy)\n",
    "    print(\"F1 score: {}\".format(f1_score_value))\n",
    "#     print('Classification Report')\n",
    "#     print(classification_report(original_ytest, predicitons))\n",
    "    print('-'*30)\n",
    "    return f1_score_value"
   ]
  },
  {
   "cell_type": "markdown",
   "id": "finished-colorado",
   "metadata": {},
   "source": [
    "### Let the EDA Begin"
   ]
  },
  {
   "cell_type": "code",
   "execution_count": 6,
   "id": "continuing-immune",
   "metadata": {},
   "outputs": [
    {
     "data": {
      "text/plain": [
       "(18664, 15)"
      ]
     },
     "execution_count": 6,
     "metadata": {},
     "output_type": "execute_result"
    }
   ],
   "source": [
    "df = pd.read_csv('testdata.csv')\n",
    "df.shape"
   ]
  },
  {
   "cell_type": "code",
   "execution_count": 7,
   "id": "expanded-transaction",
   "metadata": {},
   "outputs": [
    {
     "data": {
      "text/html": [
       "<div>\n",
       "<style scoped>\n",
       "    .dataframe tbody tr th:only-of-type {\n",
       "        vertical-align: middle;\n",
       "    }\n",
       "\n",
       "    .dataframe tbody tr th {\n",
       "        vertical-align: top;\n",
       "    }\n",
       "\n",
       "    .dataframe thead th {\n",
       "        text-align: right;\n",
       "    }\n",
       "</style>\n",
       "<table border=\"1\" class=\"dataframe\">\n",
       "  <thead>\n",
       "    <tr style=\"text-align: right;\">\n",
       "      <th></th>\n",
       "      <th>id</th>\n",
       "      <th>product</th>\n",
       "      <th>amount</th>\n",
       "      <th>price</th>\n",
       "      <th>unit</th>\n",
       "      <th>tax</th>\n",
       "      <th>invoiceid</th>\n",
       "      <th>bodyid</th>\n",
       "      <th>invoicestatusid</th>\n",
       "      <th>customername</th>\n",
       "      <th>currencycode</th>\n",
       "      <th>billdate</th>\n",
       "      <th>account_code</th>\n",
       "      <th>vat_deducation</th>\n",
       "      <th>vat_status</th>\n",
       "    </tr>\n",
       "  </thead>\n",
       "  <tbody>\n",
       "    <tr>\n",
       "      <th>0</th>\n",
       "      <td>4QZKqdn</td>\n",
       "      <td>Ciaran Aguilar + John Velasquez Lewis Bailey</td>\n",
       "      <td>12.0</td>\n",
       "      <td>10.416</td>\n",
       "      <td>kpl</td>\n",
       "      <td>24.0</td>\n",
       "      <td>W49KRV</td>\n",
       "      <td>xr5J</td>\n",
       "      <td>bw</td>\n",
       "      <td>Libero Mauris Corp.</td>\n",
       "      <td>EUR</td>\n",
       "      <td>2020-10-20 00:00:00.0</td>\n",
       "      <td>M5zP</td>\n",
       "      <td>100.0</td>\n",
       "      <td>09e2f</td>\n",
       "    </tr>\n",
       "    <tr>\n",
       "      <th>1</th>\n",
       "      <td>nAPx9YZ</td>\n",
       "      <td>Claudia Gould</td>\n",
       "      <td>1.0</td>\n",
       "      <td>20.832</td>\n",
       "      <td>kpl</td>\n",
       "      <td>24.0</td>\n",
       "      <td>W49KRV</td>\n",
       "      <td>xr5J</td>\n",
       "      <td>bw</td>\n",
       "      <td>Libero Mauris Corp.</td>\n",
       "      <td>EUR</td>\n",
       "      <td>2020-10-20 00:00:00.0</td>\n",
       "      <td>M5zP</td>\n",
       "      <td>100.0</td>\n",
       "      <td>09e2f</td>\n",
       "    </tr>\n",
       "    <tr>\n",
       "      <th>2</th>\n",
       "      <td>w7vZWbE</td>\n",
       "      <td>Lacota Shaw</td>\n",
       "      <td>1.0</td>\n",
       "      <td>12.648</td>\n",
       "      <td>kpl</td>\n",
       "      <td>24.0</td>\n",
       "      <td>W49KRV</td>\n",
       "      <td>xr5J</td>\n",
       "      <td>bw</td>\n",
       "      <td>Libero Mauris Corp.</td>\n",
       "      <td>EUR</td>\n",
       "      <td>2020-10-20 00:00:00.0</td>\n",
       "      <td>M5zP</td>\n",
       "      <td>100.0</td>\n",
       "      <td>09e2f</td>\n",
       "    </tr>\n",
       "    <tr>\n",
       "      <th>3</th>\n",
       "      <td>pw8EZM8</td>\n",
       "      <td>-</td>\n",
       "      <td>1.0</td>\n",
       "      <td>0.000</td>\n",
       "      <td>kpl</td>\n",
       "      <td>24.0</td>\n",
       "      <td>W49KRV</td>\n",
       "      <td>xr5J</td>\n",
       "      <td>bw</td>\n",
       "      <td>Libero Mauris Corp.</td>\n",
       "      <td>EUR</td>\n",
       "      <td>2020-10-20 00:00:00.0</td>\n",
       "      <td>M5zP</td>\n",
       "      <td>100.0</td>\n",
       "      <td>09e2f</td>\n",
       "    </tr>\n",
       "    <tr>\n",
       "      <th>4</th>\n",
       "      <td>qZ1pYGL</td>\n",
       "      <td>Cassandra Phelps Emerald Pratt Oscar Mccullou...</td>\n",
       "      <td>4.0</td>\n",
       "      <td>498.480</td>\n",
       "      <td>kpl</td>\n",
       "      <td>24.0</td>\n",
       "      <td>MkQY0a</td>\n",
       "      <td>xr5J</td>\n",
       "      <td>bw</td>\n",
       "      <td>Libero Mauris Corp.</td>\n",
       "      <td>EUR</td>\n",
       "      <td>2020-10-20 00:00:00.0</td>\n",
       "      <td>M5zP</td>\n",
       "      <td>100.0</td>\n",
       "      <td>09e2f</td>\n",
       "    </tr>\n",
       "  </tbody>\n",
       "</table>\n",
       "</div>"
      ],
      "text/plain": [
       "        id                                            product  amount  \\\n",
       "0  4QZKqdn       Ciaran Aguilar + John Velasquez Lewis Bailey    12.0   \n",
       "1  nAPx9YZ                                      Claudia Gould     1.0   \n",
       "2  w7vZWbE                                        Lacota Shaw     1.0   \n",
       "3  pw8EZM8                                                  -     1.0   \n",
       "4  qZ1pYGL   Cassandra Phelps Emerald Pratt Oscar Mccullou...     4.0   \n",
       "\n",
       "     price unit   tax invoiceid bodyid invoicestatusid         customername  \\\n",
       "0   10.416  kpl  24.0    W49KRV   xr5J              bw  Libero Mauris Corp.   \n",
       "1   20.832  kpl  24.0    W49KRV   xr5J              bw  Libero Mauris Corp.   \n",
       "2   12.648  kpl  24.0    W49KRV   xr5J              bw  Libero Mauris Corp.   \n",
       "3    0.000  kpl  24.0    W49KRV   xr5J              bw  Libero Mauris Corp.   \n",
       "4  498.480  kpl  24.0    MkQY0a   xr5J              bw  Libero Mauris Corp.   \n",
       "\n",
       "  currencycode               billdate account_code  vat_deducation vat_status  \n",
       "0          EUR  2020-10-20 00:00:00.0         M5zP           100.0      09e2f  \n",
       "1          EUR  2020-10-20 00:00:00.0         M5zP           100.0      09e2f  \n",
       "2          EUR  2020-10-20 00:00:00.0         M5zP           100.0      09e2f  \n",
       "3          EUR  2020-10-20 00:00:00.0         M5zP           100.0      09e2f  \n",
       "4          EUR  2020-10-20 00:00:00.0         M5zP           100.0      09e2f  "
      ]
     },
     "execution_count": 7,
     "metadata": {},
     "output_type": "execute_result"
    }
   ],
   "source": [
    "df.head(5)"
   ]
  },
  {
   "cell_type": "code",
   "execution_count": 8,
   "id": "ecological-electron",
   "metadata": {},
   "outputs": [],
   "source": [
    "# indexing and adding new date features\n",
    "\n",
    "df.index = pd.to_datetime(df['billdate'])\n",
    "df = df.sort_index()\n",
    "df['month'] = df.index.month\n",
    "df['week'] = df.index.week\n",
    "df['weekday'] = df.index.weekday"
   ]
  },
  {
   "cell_type": "code",
   "execution_count": 9,
   "id": "neutral-newark",
   "metadata": {},
   "outputs": [
    {
     "data": {
      "text/plain": [
       "id                 18664\n",
       "product            18664\n",
       "amount             18664\n",
       "price              18664\n",
       "unit               16663\n",
       "tax                18664\n",
       "invoiceid          18664\n",
       "bodyid             18664\n",
       "invoicestatusid    18664\n",
       "customername       18664\n",
       "currencycode       18664\n",
       "billdate           18664\n",
       "account_code       18664\n",
       "vat_deducation     18664\n",
       "vat_status         18664\n",
       "month              18664\n",
       "week               18664\n",
       "weekday            18664\n",
       "dtype: int64"
      ]
     },
     "execution_count": 9,
     "metadata": {},
     "output_type": "execute_result"
    }
   ],
   "source": [
    "df.count()"
   ]
  },
  {
   "cell_type": "markdown",
   "id": "optimum-robinson",
   "metadata": {},
   "source": [
    "Looks like we have some NaN \"unit\" fearture, other than that everything looks fine"
   ]
  },
  {
   "cell_type": "code",
   "execution_count": 10,
   "id": "binary-pizza",
   "metadata": {},
   "outputs": [
    {
     "data": {
      "text/plain": [
       "id                 18664\n",
       "product             7999\n",
       "amount               370\n",
       "price               5502\n",
       "unit                  21\n",
       "tax                    4\n",
       "invoiceid           2140\n",
       "bodyid                 8\n",
       "invoicestatusid        8\n",
       "customername         627\n",
       "currencycode           2\n",
       "billdate             113\n",
       "account_code         173\n",
       "vat_deducation         2\n",
       "vat_status             7\n",
       "month                 12\n",
       "week                  28\n",
       "weekday                7\n",
       "dtype: int64"
      ]
     },
     "execution_count": 10,
     "metadata": {},
     "output_type": "execute_result"
    }
   ],
   "source": [
    "df.nunique()"
   ]
  },
  {
   "cell_type": "markdown",
   "id": "approved-reservation",
   "metadata": {},
   "source": [
    "Fearures other than id, amount, price, tax and vat_deducation are categorical"
   ]
  },
  {
   "cell_type": "markdown",
   "id": "false-sacramento",
   "metadata": {},
   "source": [
    "#### Let make it visulaize"
   ]
  },
  {
   "cell_type": "code",
   "execution_count": 11,
   "id": "noticed-catalog",
   "metadata": {},
   "outputs": [
    {
     "data": {
      "text/plain": [
       "<matplotlib.axes._subplots.AxesSubplot at 0x7fe0cf2e0a90>"
      ]
     },
     "execution_count": 11,
     "metadata": {},
     "output_type": "execute_result"
    },
    {
     "data": {
      "image/png": "[encoded data removed]",
      "text/plain": [
       "<Figure size 1728x432 with 3 Axes>"
      ]
     },
     "metadata": {
      "needs_background": "light"
     },
     "output_type": "display_data"
    }
   ],
   "source": [
    "f, (ax1, ax2, ax3) = plt.subplots(1, 3, figsize=(24,6))\n",
    "# labels = ['0', '1']\n",
    "f.suptitle('Inovices Timeseries', fontsize=14)\n",
    "\n",
    "df['invoiceid'].groupby(df.index.date).count().plot(ax=ax1)\n",
    "df['amount'].groupby(df.index.date).sum().plot(ax=ax2)\n",
    "df['price'].groupby(df.index.date).sum().plot(ax=ax3)"
   ]
  },
  {
   "cell_type": "markdown",
   "id": "determined-dispute",
   "metadata": {},
   "source": [
    "Some insgihts from above timeseries are:\n",
    "- Most of the invoices generated at the end quater of 2020\n",
    "- 10-2020 had the most invoices\n",
    "- The highest amount received on a single date reached to almost 250K euros\n",
    "- Similarly the price recoreded was 2.5M\n",
    "- For some reason there is also a data from future, may be projections"
   ]
  },
  {
   "cell_type": "code",
   "execution_count": 12,
   "id": "growing-advancement",
   "metadata": {},
   "outputs": [
    {
     "data": {
      "text/plain": [
       "<matplotlib.axes._subplots.AxesSubplot at 0x7fe0cf0fd4a8>"
      ]
     },
     "execution_count": 12,
     "metadata": {},
     "output_type": "execute_result"
    },
    {
     "data": {
      "image/png": "[encoded data removed]",
      "text/plain": [
       "<Figure size 1728x432 with 3 Axes>"
      ]
     },
     "metadata": {},
     "output_type": "display_data"
    }
   ],
   "source": [
    "f, (ax1, ax2, ax3) = plt.subplots(1, 3, figsize=(24,6))\n",
    "# labels = ['0', '1']\n",
    "f.suptitle('Percentages of tax, invoices status and bodyID', fontsize=14)\n",
    "\n",
    "df.groupby('tax').count()['id'].plot.pie(autopct='%1.0f%%', title=\"Tax ratio\", ax=ax1)\n",
    "df.groupby('invoicestatusid').count()['id'].plot.pie(autopct='%1.0f%%', title=\"Invoice status id ratio\", ax=ax2)\n",
    "df.groupby('bodyid').count()['id'].plot.pie(autopct='%1.0f%%', title=\"Invoice status id ratio\", ax=ax3)"
   ]
  },
  {
   "cell_type": "markdown",
   "id": "statewide-ukraine",
   "metadata": {},
   "source": [
    "- The most tax deducateble is 24% from the given invoices\n",
    "- The status of Tax which we most mentioned were \"BW\", followed by \"RV\" and \"LY\"\n",
    "- The bodyId howeverm show balanced distribution in which code \"JLwd\" leads"
   ]
  },
  {
   "cell_type": "code",
   "execution_count": 13,
   "id": "twelve-questionnaire",
   "metadata": {},
   "outputs": [
    {
     "data": {
      "text/plain": [
       "<matplotlib.axes._subplots.AxesSubplot at 0x7fe0cf182c88>"
      ]
     },
     "execution_count": 13,
     "metadata": {},
     "output_type": "execute_result"
    },
    {
     "data": {
      "image/png": "[encoded data removed]",
      "text/plain": [
       "<Figure size 1728x432 with 1 Axes>"
      ]
     },
     "metadata": {
      "needs_background": "light"
     },
     "output_type": "display_data"
    }
   ],
   "source": [
    "df.groupby('account_code').count()['id'].plot.bar(figsize=(24,6))"
   ]
  },
  {
   "cell_type": "markdown",
   "id": "photographic-commissioner",
   "metadata": {},
   "source": [
    "The above graph is a important for our modeling. Here we can clearly observe imbalance class case. The data is skewed to two classes with almost 4000 and 2200 record respectively. Moreover, on more important thing to notice that some of the minority classes have very less samples ~<5 smaples. These classes will not be able to contribute much in our model. \n",
    "\n",
    "From above picture, I decided to take some action points over this dataset\n",
    "- Remove classes which are less than <5 samples, as they will not contribute to the model and can not participate in modeling as train/test split can not be justified with such classes. Other appraoch could be to collect them and mark them as single class, but as the context of data is hidden, I decided to remove them\n",
    "- Use both undersampling and oversampling methods to fix the imblance case"
   ]
  },
  {
   "cell_type": "code",
   "execution_count": 14,
   "id": "prescription-mississippi",
   "metadata": {},
   "outputs": [
    {
     "data": {
      "text/plain": [
       "<matplotlib.axes._subplots.AxesSubplot at 0x7fe0ce63a668>"
      ]
     },
     "execution_count": 14,
     "metadata": {},
     "output_type": "execute_result"
    },
    {
     "data": {
      "image/png": "[encoded data removed]",
      "text/plain": [
       "<Figure size 1728x432 with 1 Axes>"
      ]
     },
     "metadata": {
      "needs_background": "light"
     },
     "output_type": "display_data"
    }
   ],
   "source": [
    "df.groupby('account_code').filter(lambda x: len(x) > 5).groupby('account_code').count()['id'].plot.bar(figsize=(24,6))"
   ]
  },
  {
   "cell_type": "markdown",
   "id": "specified-overall",
   "metadata": {},
   "source": [
    "### Data Transformation"
   ]
  },
  {
   "cell_type": "code",
   "execution_count": 15,
   "id": "dying-fever",
   "metadata": {},
   "outputs": [],
   "source": [
    "df['product'] = df['product'].apply(lambda x : x.lower())\n",
    "df['customername'] = df['customername'].apply(lambda x : x.lower())"
   ]
  },
  {
   "cell_type": "code",
   "execution_count": 16,
   "id": "intensive-cambridge",
   "metadata": {},
   "outputs": [],
   "source": [
    "unit_dic = dict(enumerate(df['unit'].astype('category').cat.categories))\n",
    "invoiceid_dic = dict(enumerate(df['invoiceid'].astype('category').cat.categories))\n",
    "bodyid_dic = dict(enumerate(df['bodyid'].astype('category').cat.categories))\n",
    "invoicestatusid_dic = dict(enumerate(df['invoicestatusid'].astype('category').cat.categories))\n",
    "currencycode_dic = dict(enumerate(df['currencycode'].astype('category').cat.categories))\n",
    "vat_status_dic = dict(enumerate(df['vat_status'].astype('category').cat.categories))\n",
    "customername_dic = dict(enumerate(df['customername'].astype('category').cat.categories))\n",
    "product_dic = dict(enumerate(df['product'].astype('category').cat.categories))\n",
    "account_code_dic = dict(enumerate(df['account_code'].astype('category').cat.categories))"
   ]
  },
  {
   "cell_type": "code",
   "execution_count": 17,
   "id": "acute-hours",
   "metadata": {},
   "outputs": [],
   "source": [
    "df['unit'] = df['unit'].astype('category').cat.codes\n",
    "df['invoiceid'] = df['invoiceid'].astype('category').cat.codes\n",
    "df['bodyid'] = df['bodyid'].astype('category').cat.codes\n",
    "df['invoicestatusid'] = df['invoicestatusid'].astype('category').cat.codes\n",
    "df['currencycode'] = df['currencycode'].astype('category').cat.codes\n",
    "df['vat_status'] = df['vat_status'].astype('category').cat.codes\n",
    "df['customername'] = df['customername'].astype('category').cat.codes\n",
    "df['product'] = df['product'].astype('category').cat.codes\n",
    "df['account_code'] = df['account_code'].astype('category').cat.codes"
   ]
  },
  {
   "cell_type": "code",
   "execution_count": null,
   "id": "sound-swedish",
   "metadata": {},
   "outputs": [],
   "source": []
  },
  {
   "cell_type": "markdown",
   "id": "centered-radar",
   "metadata": {},
   "source": [
    "Let check the correlation between the target column and other features"
   ]
  },
  {
   "cell_type": "code",
   "execution_count": 18,
   "id": "controversial-oxford",
   "metadata": {},
   "outputs": [
    {
     "data": {
      "text/html": [
       "<style  type=\"text/css\" >\n",
       "    #T_3fe0261a_7f97_11eb_afd8_6d84fc2c2b45row0_col0 {\n",
       "            background-color:  #b40426;\n",
       "            color:  #f1f1f1;\n",
       "        }    #T_3fe0261a_7f97_11eb_afd8_6d84fc2c2b45row0_col1 {\n",
       "            background-color:  #4055c8;\n",
       "            color:  #f1f1f1;\n",
       "        }    #T_3fe0261a_7f97_11eb_afd8_6d84fc2c2b45row0_col2 {\n",
       "            background-color:  #455cce;\n",
       "            color:  #f1f1f1;\n",
       "        }    #T_3fe0261a_7f97_11eb_afd8_6d84fc2c2b45row0_col3 {\n",
       "            background-color:  #4055c8;\n",
       "            color:  #f1f1f1;\n",
       "        }    #T_3fe0261a_7f97_11eb_afd8_6d84fc2c2b45row0_col4 {\n",
       "            background-color:  #9bbcff;\n",
       "            color:  #000000;\n",
       "        }    #T_3fe0261a_7f97_11eb_afd8_6d84fc2c2b45row0_col5 {\n",
       "            background-color:  #5673e0;\n",
       "            color:  #000000;\n",
       "        }    #T_3fe0261a_7f97_11eb_afd8_6d84fc2c2b45row0_col6 {\n",
       "            background-color:  #3f53c6;\n",
       "            color:  #f1f1f1;\n",
       "        }    #T_3fe0261a_7f97_11eb_afd8_6d84fc2c2b45row0_col7 {\n",
       "            background-color:  #5b7ae5;\n",
       "            color:  #000000;\n",
       "        }    #T_3fe0261a_7f97_11eb_afd8_6d84fc2c2b45row0_col8 {\n",
       "            background-color:  #5470de;\n",
       "            color:  #000000;\n",
       "        }    #T_3fe0261a_7f97_11eb_afd8_6d84fc2c2b45row0_col9 {\n",
       "            background-color:  #445acc;\n",
       "            color:  #f1f1f1;\n",
       "        }    #T_3fe0261a_7f97_11eb_afd8_6d84fc2c2b45row0_col10 {\n",
       "            background-color:  #5d7ce6;\n",
       "            color:  #000000;\n",
       "        }    #T_3fe0261a_7f97_11eb_afd8_6d84fc2c2b45row0_col11 {\n",
       "            background-color:  #90b2fe;\n",
       "            color:  #000000;\n",
       "        }    #T_3fe0261a_7f97_11eb_afd8_6d84fc2c2b45row0_col12 {\n",
       "            background-color:  #8db0fe;\n",
       "            color:  #000000;\n",
       "        }    #T_3fe0261a_7f97_11eb_afd8_6d84fc2c2b45row0_col13 {\n",
       "            background-color:  #82a6fb;\n",
       "            color:  #000000;\n",
       "        }    #T_3fe0261a_7f97_11eb_afd8_6d84fc2c2b45row0_col14 {\n",
       "            background-color:  #7a9df8;\n",
       "            color:  #000000;\n",
       "        }    #T_3fe0261a_7f97_11eb_afd8_6d84fc2c2b45row0_col15 {\n",
       "            background-color:  #3b4cc0;\n",
       "            color:  #f1f1f1;\n",
       "        }    #T_3fe0261a_7f97_11eb_afd8_6d84fc2c2b45row1_col0 {\n",
       "            background-color:  #5673e0;\n",
       "            color:  #000000;\n",
       "        }    #T_3fe0261a_7f97_11eb_afd8_6d84fc2c2b45row1_col1 {\n",
       "            background-color:  #b40426;\n",
       "            color:  #f1f1f1;\n",
       "        }    #T_3fe0261a_7f97_11eb_afd8_6d84fc2c2b45row1_col2 {\n",
       "            background-color:  #445acc;\n",
       "            color:  #f1f1f1;\n",
       "        }    #T_3fe0261a_7f97_11eb_afd8_6d84fc2c2b45row1_col3 {\n",
       "            background-color:  #5673e0;\n",
       "            color:  #000000;\n",
       "        }    #T_3fe0261a_7f97_11eb_afd8_6d84fc2c2b45row1_col4 {\n",
       "            background-color:  #9bbcff;\n",
       "            color:  #000000;\n",
       "        }    #T_3fe0261a_7f97_11eb_afd8_6d84fc2c2b45row1_col5 {\n",
       "            background-color:  #4055c8;\n",
       "            color:  #f1f1f1;\n",
       "        }    #T_3fe0261a_7f97_11eb_afd8_6d84fc2c2b45row1_col6 {\n",
       "            background-color:  #506bda;\n",
       "            color:  #000000;\n",
       "        }    #T_3fe0261a_7f97_11eb_afd8_6d84fc2c2b45row1_col7 {\n",
       "            background-color:  #516ddb;\n",
       "            color:  #000000;\n",
       "        }    #T_3fe0261a_7f97_11eb_afd8_6d84fc2c2b45row1_col8 {\n",
       "            background-color:  #5d7ce6;\n",
       "            color:  #000000;\n",
       "        }    #T_3fe0261a_7f97_11eb_afd8_6d84fc2c2b45row1_col9 {\n",
       "            background-color:  #4055c8;\n",
       "            color:  #f1f1f1;\n",
       "        }    #T_3fe0261a_7f97_11eb_afd8_6d84fc2c2b45row1_col10 {\n",
       "            background-color:  #779af7;\n",
       "            color:  #000000;\n",
       "        }    #T_3fe0261a_7f97_11eb_afd8_6d84fc2c2b45row1_col11 {\n",
       "            background-color:  #90b2fe;\n",
       "            color:  #000000;\n",
       "        }    #T_3fe0261a_7f97_11eb_afd8_6d84fc2c2b45row1_col12 {\n",
       "            background-color:  #97b8ff;\n",
       "            color:  #000000;\n",
       "        }    #T_3fe0261a_7f97_11eb_afd8_6d84fc2c2b45row1_col13 {\n",
       "            background-color:  #779af7;\n",
       "            color:  #000000;\n",
       "        }    #T_3fe0261a_7f97_11eb_afd8_6d84fc2c2b45row1_col14 {\n",
       "            background-color:  #7597f6;\n",
       "            color:  #000000;\n",
       "        }    #T_3fe0261a_7f97_11eb_afd8_6d84fc2c2b45row1_col15 {\n",
       "            background-color:  #4f69d9;\n",
       "            color:  #000000;\n",
       "        }    #T_3fe0261a_7f97_11eb_afd8_6d84fc2c2b45row2_col0 {\n",
       "            background-color:  #5572df;\n",
       "            color:  #000000;\n",
       "        }    #T_3fe0261a_7f97_11eb_afd8_6d84fc2c2b45row2_col1 {\n",
       "            background-color:  #3e51c5;\n",
       "            color:  #f1f1f1;\n",
       "        }    #T_3fe0261a_7f97_11eb_afd8_6d84fc2c2b45row2_col2 {\n",
       "            background-color:  #b40426;\n",
       "            color:  #f1f1f1;\n",
       "        }    #T_3fe0261a_7f97_11eb_afd8_6d84fc2c2b45row2_col3 {\n",
       "            background-color:  #5977e3;\n",
       "            color:  #000000;\n",
       "        }    #T_3fe0261a_7f97_11eb_afd8_6d84fc2c2b45row2_col4 {\n",
       "            background-color:  #90b2fe;\n",
       "            color:  #000000;\n",
       "        }    #T_3fe0261a_7f97_11eb_afd8_6d84fc2c2b45row2_col5 {\n",
       "            background-color:  #3f53c6;\n",
       "            color:  #f1f1f1;\n",
       "        }    #T_3fe0261a_7f97_11eb_afd8_6d84fc2c2b45row2_col6 {\n",
       "            background-color:  #4c66d6;\n",
       "            color:  #000000;\n",
       "        }    #T_3fe0261a_7f97_11eb_afd8_6d84fc2c2b45row2_col7 {\n",
       "            background-color:  #5572df;\n",
       "            color:  #000000;\n",
       "        }    #T_3fe0261a_7f97_11eb_afd8_6d84fc2c2b45row2_col8 {\n",
       "            background-color:  #6180e9;\n",
       "            color:  #000000;\n",
       "        }    #T_3fe0261a_7f97_11eb_afd8_6d84fc2c2b45row2_col9 {\n",
       "            background-color:  #4257c9;\n",
       "            color:  #f1f1f1;\n",
       "        }    #T_3fe0261a_7f97_11eb_afd8_6d84fc2c2b45row2_col10 {\n",
       "            background-color:  #7597f6;\n",
       "            color:  #000000;\n",
       "        }    #T_3fe0261a_7f97_11eb_afd8_6d84fc2c2b45row2_col11 {\n",
       "            background-color:  #8caffe;\n",
       "            color:  #000000;\n",
       "        }    #T_3fe0261a_7f97_11eb_afd8_6d84fc2c2b45row2_col12 {\n",
       "            background-color:  #9abbff;\n",
       "            color:  #000000;\n",
       "        }    #T_3fe0261a_7f97_11eb_afd8_6d84fc2c2b45row2_col13 {\n",
       "            background-color:  #7396f5;\n",
       "            color:  #000000;\n",
       "        }    #T_3fe0261a_7f97_11eb_afd8_6d84fc2c2b45row2_col14 {\n",
       "            background-color:  #7295f4;\n",
       "            color:  #000000;\n",
       "        }    #T_3fe0261a_7f97_11eb_afd8_6d84fc2c2b45row2_col15 {\n",
       "            background-color:  #506bda;\n",
       "            color:  #000000;\n",
       "        }    #T_3fe0261a_7f97_11eb_afd8_6d84fc2c2b45row3_col0 {\n",
       "            background-color:  #3d50c3;\n",
       "            color:  #f1f1f1;\n",
       "        }    #T_3fe0261a_7f97_11eb_afd8_6d84fc2c2b45row3_col1 {\n",
       "            background-color:  #3d50c3;\n",
       "            color:  #f1f1f1;\n",
       "        }    #T_3fe0261a_7f97_11eb_afd8_6d84fc2c2b45row3_col2 {\n",
       "            background-color:  #455cce;\n",
       "            color:  #f1f1f1;\n",
       "        }    #T_3fe0261a_7f97_11eb_afd8_6d84fc2c2b45row3_col3 {\n",
       "            background-color:  #b40426;\n",
       "            color:  #f1f1f1;\n",
       "        }    #T_3fe0261a_7f97_11eb_afd8_6d84fc2c2b45row3_col4 {\n",
       "            background-color:  #7da0f9;\n",
       "            color:  #000000;\n",
       "        }    #T_3fe0261a_7f97_11eb_afd8_6d84fc2c2b45row3_col5 {\n",
       "            background-color:  #3e51c5;\n",
       "            color:  #f1f1f1;\n",
       "        }    #T_3fe0261a_7f97_11eb_afd8_6d84fc2c2b45row3_col6 {\n",
       "            background-color:  #6788ee;\n",
       "            color:  #000000;\n",
       "        }    #T_3fe0261a_7f97_11eb_afd8_6d84fc2c2b45row3_col7 {\n",
       "            background-color:  #4e68d8;\n",
       "            color:  #000000;\n",
       "        }    #T_3fe0261a_7f97_11eb_afd8_6d84fc2c2b45row3_col8 {\n",
       "            background-color:  #5d7ce6;\n",
       "            color:  #000000;\n",
       "        }    #T_3fe0261a_7f97_11eb_afd8_6d84fc2c2b45row3_col9 {\n",
       "            background-color:  #4257c9;\n",
       "            color:  #f1f1f1;\n",
       "        }    #T_3fe0261a_7f97_11eb_afd8_6d84fc2c2b45row3_col10 {\n",
       "            background-color:  #7295f4;\n",
       "            color:  #000000;\n",
       "        }    #T_3fe0261a_7f97_11eb_afd8_6d84fc2c2b45row3_col11 {\n",
       "            background-color:  #89acfd;\n",
       "            color:  #000000;\n",
       "        }    #T_3fe0261a_7f97_11eb_afd8_6d84fc2c2b45row3_col12 {\n",
       "            background-color:  #a1c0ff;\n",
       "            color:  #000000;\n",
       "        }    #T_3fe0261a_7f97_11eb_afd8_6d84fc2c2b45row3_col13 {\n",
       "            background-color:  #8badfd;\n",
       "            color:  #000000;\n",
       "        }    #T_3fe0261a_7f97_11eb_afd8_6d84fc2c2b45row3_col14 {\n",
       "            background-color:  #8caffe;\n",
       "            color:  #000000;\n",
       "        }    #T_3fe0261a_7f97_11eb_afd8_6d84fc2c2b45row3_col15 {\n",
       "            background-color:  #6687ed;\n",
       "            color:  #000000;\n",
       "        }    #T_3fe0261a_7f97_11eb_afd8_6d84fc2c2b45row4_col0 {\n",
       "            background-color:  #5875e1;\n",
       "            color:  #000000;\n",
       "        }    #T_3fe0261a_7f97_11eb_afd8_6d84fc2c2b45row4_col1 {\n",
       "            background-color:  #4358cb;\n",
       "            color:  #f1f1f1;\n",
       "        }    #T_3fe0261a_7f97_11eb_afd8_6d84fc2c2b45row4_col2 {\n",
       "            background-color:  #3b4cc0;\n",
       "            color:  #f1f1f1;\n",
       "        }    #T_3fe0261a_7f97_11eb_afd8_6d84fc2c2b45row4_col3 {\n",
       "            background-color:  #3b4cc0;\n",
       "            color:  #f1f1f1;\n",
       "        }    #T_3fe0261a_7f97_11eb_afd8_6d84fc2c2b45row4_col4 {\n",
       "            background-color:  #b40426;\n",
       "            color:  #f1f1f1;\n",
       "        }    #T_3fe0261a_7f97_11eb_afd8_6d84fc2c2b45row4_col5 {\n",
       "            background-color:  #5572df;\n",
       "            color:  #000000;\n",
       "        }    #T_3fe0261a_7f97_11eb_afd8_6d84fc2c2b45row4_col6 {\n",
       "            background-color:  #536edd;\n",
       "            color:  #000000;\n",
       "        }    #T_3fe0261a_7f97_11eb_afd8_6d84fc2c2b45row4_col7 {\n",
       "            background-color:  #5572df;\n",
       "            color:  #000000;\n",
       "        }    #T_3fe0261a_7f97_11eb_afd8_6d84fc2c2b45row4_col8 {\n",
       "            background-color:  #7597f6;\n",
       "            color:  #000000;\n",
       "        }    #T_3fe0261a_7f97_11eb_afd8_6d84fc2c2b45row4_col9 {\n",
       "            background-color:  #3c4ec2;\n",
       "            color:  #f1f1f1;\n",
       "        }    #T_3fe0261a_7f97_11eb_afd8_6d84fc2c2b45row4_col10 {\n",
       "            background-color:  #6c8ff1;\n",
       "            color:  #000000;\n",
       "        }    #T_3fe0261a_7f97_11eb_afd8_6d84fc2c2b45row4_col11 {\n",
       "            background-color:  #f7af91;\n",
       "            color:  #000000;\n",
       "        }    #T_3fe0261a_7f97_11eb_afd8_6d84fc2c2b45row4_col12 {\n",
       "            background-color:  #3b4cc0;\n",
       "            color:  #f1f1f1;\n",
       "        }    #T_3fe0261a_7f97_11eb_afd8_6d84fc2c2b45row4_col13 {\n",
       "            background-color:  #7699f6;\n",
       "            color:  #000000;\n",
       "        }    #T_3fe0261a_7f97_11eb_afd8_6d84fc2c2b45row4_col14 {\n",
       "            background-color:  #7da0f9;\n",
       "            color:  #000000;\n",
       "        }    #T_3fe0261a_7f97_11eb_afd8_6d84fc2c2b45row4_col15 {\n",
       "            background-color:  #4c66d6;\n",
       "            color:  #000000;\n",
       "        }    #T_3fe0261a_7f97_11eb_afd8_6d84fc2c2b45row5_col0 {\n",
       "            background-color:  #6788ee;\n",
       "            color:  #000000;\n",
       "        }    #T_3fe0261a_7f97_11eb_afd8_6d84fc2c2b45row5_col1 {\n",
       "            background-color:  #3d50c3;\n",
       "            color:  #f1f1f1;\n",
       "        }    #T_3fe0261a_7f97_11eb_afd8_6d84fc2c2b45row5_col2 {\n",
       "            background-color:  #4055c8;\n",
       "            color:  #f1f1f1;\n",
       "        }    #T_3fe0261a_7f97_11eb_afd8_6d84fc2c2b45row5_col3 {\n",
       "            background-color:  #536edd;\n",
       "            color:  #000000;\n",
       "        }    #T_3fe0261a_7f97_11eb_afd8_6d84fc2c2b45row5_col4 {\n",
       "            background-color:  #a7c5fe;\n",
       "            color:  #000000;\n",
       "        }    #T_3fe0261a_7f97_11eb_afd8_6d84fc2c2b45row5_col5 {\n",
       "            background-color:  #b40426;\n",
       "            color:  #f1f1f1;\n",
       "        }    #T_3fe0261a_7f97_11eb_afd8_6d84fc2c2b45row5_col6 {\n",
       "            background-color:  #5a78e4;\n",
       "            color:  #000000;\n",
       "        }    #T_3fe0261a_7f97_11eb_afd8_6d84fc2c2b45row5_col7 {\n",
       "            background-color:  #7396f5;\n",
       "            color:  #000000;\n",
       "        }    #T_3fe0261a_7f97_11eb_afd8_6d84fc2c2b45row5_col8 {\n",
       "            background-color:  #5f7fe8;\n",
       "            color:  #000000;\n",
       "        }    #T_3fe0261a_7f97_11eb_afd8_6d84fc2c2b45row5_col9 {\n",
       "            background-color:  #4055c8;\n",
       "            color:  #f1f1f1;\n",
       "        }    #T_3fe0261a_7f97_11eb_afd8_6d84fc2c2b45row5_col10 {\n",
       "            background-color:  #80a3fa;\n",
       "            color:  #000000;\n",
       "        }    #T_3fe0261a_7f97_11eb_afd8_6d84fc2c2b45row5_col11 {\n",
       "            background-color:  #90b2fe;\n",
       "            color:  #000000;\n",
       "        }    #T_3fe0261a_7f97_11eb_afd8_6d84fc2c2b45row5_col12 {\n",
       "            background-color:  #92b4fe;\n",
       "            color:  #000000;\n",
       "        }    #T_3fe0261a_7f97_11eb_afd8_6d84fc2c2b45row5_col13 {\n",
       "            background-color:  #6e90f2;\n",
       "            color:  #000000;\n",
       "        }    #T_3fe0261a_7f97_11eb_afd8_6d84fc2c2b45row5_col14 {\n",
       "            background-color:  #799cf8;\n",
       "            color:  #000000;\n",
       "        }    #T_3fe0261a_7f97_11eb_afd8_6d84fc2c2b45row5_col15 {\n",
       "            background-color:  #4c66d6;\n",
       "            color:  #000000;\n",
       "        }    #T_3fe0261a_7f97_11eb_afd8_6d84fc2c2b45row6_col0 {\n",
       "            background-color:  #4055c8;\n",
       "            color:  #f1f1f1;\n",
       "        }    #T_3fe0261a_7f97_11eb_afd8_6d84fc2c2b45row6_col1 {\n",
       "            background-color:  #3d50c3;\n",
       "            color:  #f1f1f1;\n",
       "        }    #T_3fe0261a_7f97_11eb_afd8_6d84fc2c2b45row6_col2 {\n",
       "            background-color:  #3d50c3;\n",
       "            color:  #f1f1f1;\n",
       "        }    #T_3fe0261a_7f97_11eb_afd8_6d84fc2c2b45row6_col3 {\n",
       "            background-color:  #6c8ff1;\n",
       "            color:  #000000;\n",
       "        }    #T_3fe0261a_7f97_11eb_afd8_6d84fc2c2b45row6_col4 {\n",
       "            background-color:  #98b9ff;\n",
       "            color:  #000000;\n",
       "        }    #T_3fe0261a_7f97_11eb_afd8_6d84fc2c2b45row6_col5 {\n",
       "            background-color:  #4b64d5;\n",
       "            color:  #f1f1f1;\n",
       "        }    #T_3fe0261a_7f97_11eb_afd8_6d84fc2c2b45row6_col6 {\n",
       "            background-color:  #b40426;\n",
       "            color:  #f1f1f1;\n",
       "        }    #T_3fe0261a_7f97_11eb_afd8_6d84fc2c2b45row6_col7 {\n",
       "            background-color:  #aac7fd;\n",
       "            color:  #000000;\n",
       "        }    #T_3fe0261a_7f97_11eb_afd8_6d84fc2c2b45row6_col8 {\n",
       "            background-color:  #7b9ff9;\n",
       "            color:  #000000;\n",
       "        }    #T_3fe0261a_7f97_11eb_afd8_6d84fc2c2b45row6_col9 {\n",
       "            background-color:  #4257c9;\n",
       "            color:  #f1f1f1;\n",
       "        }    #T_3fe0261a_7f97_11eb_afd8_6d84fc2c2b45row6_col10 {\n",
       "            background-color:  #6687ed;\n",
       "            color:  #000000;\n",
       "        }    #T_3fe0261a_7f97_11eb_afd8_6d84fc2c2b45row6_col11 {\n",
       "            background-color:  #779af7;\n",
       "            color:  #000000;\n",
       "        }    #T_3fe0261a_7f97_11eb_afd8_6d84fc2c2b45row6_col12 {\n",
       "            background-color:  #abc8fd;\n",
       "            color:  #000000;\n",
       "        }    #T_3fe0261a_7f97_11eb_afd8_6d84fc2c2b45row6_col13 {\n",
       "            background-color:  #dbdcde;\n",
       "            color:  #000000;\n",
       "        }    #T_3fe0261a_7f97_11eb_afd8_6d84fc2c2b45row6_col14 {\n",
       "            background-color:  #e0dbd8;\n",
       "            color:  #000000;\n",
       "        }    #T_3fe0261a_7f97_11eb_afd8_6d84fc2c2b45row6_col15 {\n",
       "            background-color:  #6f92f3;\n",
       "            color:  #000000;\n",
       "        }    #T_3fe0261a_7f97_11eb_afd8_6d84fc2c2b45row7_col0 {\n",
       "            background-color:  #6180e9;\n",
       "            color:  #000000;\n",
       "        }    #T_3fe0261a_7f97_11eb_afd8_6d84fc2c2b45row7_col1 {\n",
       "            background-color:  #3f53c6;\n",
       "            color:  #f1f1f1;\n",
       "        }    #T_3fe0261a_7f97_11eb_afd8_6d84fc2c2b45row7_col2 {\n",
       "            background-color:  #4961d2;\n",
       "            color:  #f1f1f1;\n",
       "        }    #T_3fe0261a_7f97_11eb_afd8_6d84fc2c2b45row7_col3 {\n",
       "            background-color:  #5673e0;\n",
       "            color:  #000000;\n",
       "        }    #T_3fe0261a_7f97_11eb_afd8_6d84fc2c2b45row7_col4 {\n",
       "            background-color:  #9dbdff;\n",
       "            color:  #000000;\n",
       "        }    #T_3fe0261a_7f97_11eb_afd8_6d84fc2c2b45row7_col5 {\n",
       "            background-color:  #6687ed;\n",
       "            color:  #000000;\n",
       "        }    #T_3fe0261a_7f97_11eb_afd8_6d84fc2c2b45row7_col6 {\n",
       "            background-color:  #abc8fd;\n",
       "            color:  #000000;\n",
       "        }    #T_3fe0261a_7f97_11eb_afd8_6d84fc2c2b45row7_col7 {\n",
       "            background-color:  #b40426;\n",
       "            color:  #f1f1f1;\n",
       "        }    #T_3fe0261a_7f97_11eb_afd8_6d84fc2c2b45row7_col8 {\n",
       "            background-color:  #5a78e4;\n",
       "            color:  #000000;\n",
       "        }    #T_3fe0261a_7f97_11eb_afd8_6d84fc2c2b45row7_col9 {\n",
       "            background-color:  #4055c8;\n",
       "            color:  #f1f1f1;\n",
       "        }    #T_3fe0261a_7f97_11eb_afd8_6d84fc2c2b45row7_col10 {\n",
       "            background-color:  #6180e9;\n",
       "            color:  #000000;\n",
       "        }    #T_3fe0261a_7f97_11eb_afd8_6d84fc2c2b45row7_col11 {\n",
       "            background-color:  #86a9fc;\n",
       "            color:  #000000;\n",
       "        }    #T_3fe0261a_7f97_11eb_afd8_6d84fc2c2b45row7_col12 {\n",
       "            background-color:  #9ebeff;\n",
       "            color:  #000000;\n",
       "        }    #T_3fe0261a_7f97_11eb_afd8_6d84fc2c2b45row7_col13 {\n",
       "            background-color:  #9abbff;\n",
       "            color:  #000000;\n",
       "        }    #T_3fe0261a_7f97_11eb_afd8_6d84fc2c2b45row7_col14 {\n",
       "            background-color:  #96b7ff;\n",
       "            color:  #000000;\n",
       "        }    #T_3fe0261a_7f97_11eb_afd8_6d84fc2c2b45row7_col15 {\n",
       "            background-color:  #445acc;\n",
       "            color:  #f1f1f1;\n",
       "        }    #T_3fe0261a_7f97_11eb_afd8_6d84fc2c2b45row8_col0 {\n",
       "            background-color:  #485fd1;\n",
       "            color:  #f1f1f1;\n",
       "        }    #T_3fe0261a_7f97_11eb_afd8_6d84fc2c2b45row8_col1 {\n",
       "            background-color:  #3b4cc0;\n",
       "            color:  #f1f1f1;\n",
       "        }    #T_3fe0261a_7f97_11eb_afd8_6d84fc2c2b45row8_col2 {\n",
       "            background-color:  #445acc;\n",
       "            color:  #f1f1f1;\n",
       "        }    #T_3fe0261a_7f97_11eb_afd8_6d84fc2c2b45row8_col3 {\n",
       "            background-color:  #5470de;\n",
       "            color:  #000000;\n",
       "        }    #T_3fe0261a_7f97_11eb_afd8_6d84fc2c2b45row8_col4 {\n",
       "            background-color:  #a9c6fd;\n",
       "            color:  #000000;\n",
       "        }    #T_3fe0261a_7f97_11eb_afd8_6d84fc2c2b45row8_col5 {\n",
       "            background-color:  #4257c9;\n",
       "            color:  #f1f1f1;\n",
       "        }    #T_3fe0261a_7f97_11eb_afd8_6d84fc2c2b45row8_col6 {\n",
       "            background-color:  #6c8ff1;\n",
       "            color:  #000000;\n",
       "        }    #T_3fe0261a_7f97_11eb_afd8_6d84fc2c2b45row8_col7 {\n",
       "            background-color:  #4a63d3;\n",
       "            color:  #f1f1f1;\n",
       "        }    #T_3fe0261a_7f97_11eb_afd8_6d84fc2c2b45row8_col8 {\n",
       "            background-color:  #b40426;\n",
       "            color:  #f1f1f1;\n",
       "        }    #T_3fe0261a_7f97_11eb_afd8_6d84fc2c2b45row8_col9 {\n",
       "            background-color:  #4257c9;\n",
       "            color:  #f1f1f1;\n",
       "        }    #T_3fe0261a_7f97_11eb_afd8_6d84fc2c2b45row8_col10 {\n",
       "            background-color:  #5572df;\n",
       "            color:  #000000;\n",
       "        }    #T_3fe0261a_7f97_11eb_afd8_6d84fc2c2b45row8_col11 {\n",
       "            background-color:  #93b5fe;\n",
       "            color:  #000000;\n",
       "        }    #T_3fe0261a_7f97_11eb_afd8_6d84fc2c2b45row8_col12 {\n",
       "            background-color:  #9bbcff;\n",
       "            color:  #000000;\n",
       "        }    #T_3fe0261a_7f97_11eb_afd8_6d84fc2c2b45row8_col13 {\n",
       "            background-color:  #506bda;\n",
       "            color:  #000000;\n",
       "        }    #T_3fe0261a_7f97_11eb_afd8_6d84fc2c2b45row8_col14 {\n",
       "            background-color:  #5a78e4;\n",
       "            color:  #000000;\n",
       "        }    #T_3fe0261a_7f97_11eb_afd8_6d84fc2c2b45row8_col15 {\n",
       "            background-color:  #3f53c6;\n",
       "            color:  #f1f1f1;\n",
       "        }    #T_3fe0261a_7f97_11eb_afd8_6d84fc2c2b45row9_col0 {\n",
       "            background-color:  #5875e1;\n",
       "            color:  #000000;\n",
       "        }    #T_3fe0261a_7f97_11eb_afd8_6d84fc2c2b45row9_col1 {\n",
       "            background-color:  #3f53c6;\n",
       "            color:  #f1f1f1;\n",
       "        }    #T_3fe0261a_7f97_11eb_afd8_6d84fc2c2b45row9_col2 {\n",
       "            background-color:  #445acc;\n",
       "            color:  #f1f1f1;\n",
       "        }    #T_3fe0261a_7f97_11eb_afd8_6d84fc2c2b45row9_col3 {\n",
       "            background-color:  #5977e3;\n",
       "            color:  #000000;\n",
       "        }    #T_3fe0261a_7f97_11eb_afd8_6d84fc2c2b45row9_col4 {\n",
       "            background-color:  #94b6ff;\n",
       "            color:  #000000;\n",
       "        }    #T_3fe0261a_7f97_11eb_afd8_6d84fc2c2b45row9_col5 {\n",
       "            background-color:  #4358cb;\n",
       "            color:  #f1f1f1;\n",
       "        }    #T_3fe0261a_7f97_11eb_afd8_6d84fc2c2b45row9_col6 {\n",
       "            background-color:  #536edd;\n",
       "            color:  #000000;\n",
       "        }    #T_3fe0261a_7f97_11eb_afd8_6d84fc2c2b45row9_col7 {\n",
       "            background-color:  #506bda;\n",
       "            color:  #000000;\n",
       "        }    #T_3fe0261a_7f97_11eb_afd8_6d84fc2c2b45row9_col8 {\n",
       "            background-color:  #6180e9;\n",
       "            color:  #000000;\n",
       "        }    #T_3fe0261a_7f97_11eb_afd8_6d84fc2c2b45row9_col9 {\n",
       "            background-color:  #b40426;\n",
       "            color:  #f1f1f1;\n",
       "        }    #T_3fe0261a_7f97_11eb_afd8_6d84fc2c2b45row9_col10 {\n",
       "            background-color:  #799cf8;\n",
       "            color:  #000000;\n",
       "        }    #T_3fe0261a_7f97_11eb_afd8_6d84fc2c2b45row9_col11 {\n",
       "            background-color:  #86a9fc;\n",
       "            color:  #000000;\n",
       "        }    #T_3fe0261a_7f97_11eb_afd8_6d84fc2c2b45row9_col12 {\n",
       "            background-color:  #a3c2fe;\n",
       "            color:  #000000;\n",
       "        }    #T_3fe0261a_7f97_11eb_afd8_6d84fc2c2b45row9_col13 {\n",
       "            background-color:  #779af7;\n",
       "            color:  #000000;\n",
       "        }    #T_3fe0261a_7f97_11eb_afd8_6d84fc2c2b45row9_col14 {\n",
       "            background-color:  #7597f6;\n",
       "            color:  #000000;\n",
       "        }    #T_3fe0261a_7f97_11eb_afd8_6d84fc2c2b45row9_col15 {\n",
       "            background-color:  #4e68d8;\n",
       "            color:  #000000;\n",
       "        }    #T_3fe0261a_7f97_11eb_afd8_6d84fc2c2b45row10_col0 {\n",
       "            background-color:  #3b4cc0;\n",
       "            color:  #f1f1f1;\n",
       "        }    #T_3fe0261a_7f97_11eb_afd8_6d84fc2c2b45row10_col1 {\n",
       "            background-color:  #3f53c6;\n",
       "            color:  #f1f1f1;\n",
       "        }    #T_3fe0261a_7f97_11eb_afd8_6d84fc2c2b45row10_col2 {\n",
       "            background-color:  #4358cb;\n",
       "            color:  #f1f1f1;\n",
       "        }    #T_3fe0261a_7f97_11eb_afd8_6d84fc2c2b45row10_col3 {\n",
       "            background-color:  #5470de;\n",
       "            color:  #000000;\n",
       "        }    #T_3fe0261a_7f97_11eb_afd8_6d84fc2c2b45row10_col4 {\n",
       "            background-color:  #8fb1fe;\n",
       "            color:  #000000;\n",
       "        }    #T_3fe0261a_7f97_11eb_afd8_6d84fc2c2b45row10_col5 {\n",
       "            background-color:  #4c66d6;\n",
       "            color:  #000000;\n",
       "        }    #T_3fe0261a_7f97_11eb_afd8_6d84fc2c2b45row10_col6 {\n",
       "            background-color:  #4257c9;\n",
       "            color:  #f1f1f1;\n",
       "        }    #T_3fe0261a_7f97_11eb_afd8_6d84fc2c2b45row10_col7 {\n",
       "            background-color:  #3b4cc0;\n",
       "            color:  #f1f1f1;\n",
       "        }    #T_3fe0261a_7f97_11eb_afd8_6d84fc2c2b45row10_col8 {\n",
       "            background-color:  #3e51c5;\n",
       "            color:  #f1f1f1;\n",
       "        }    #T_3fe0261a_7f97_11eb_afd8_6d84fc2c2b45row10_col9 {\n",
       "            background-color:  #4358cb;\n",
       "            color:  #f1f1f1;\n",
       "        }    #T_3fe0261a_7f97_11eb_afd8_6d84fc2c2b45row10_col10 {\n",
       "            background-color:  #b40426;\n",
       "            color:  #f1f1f1;\n",
       "        }    #T_3fe0261a_7f97_11eb_afd8_6d84fc2c2b45row10_col11 {\n",
       "            background-color:  #96b7ff;\n",
       "            color:  #000000;\n",
       "        }    #T_3fe0261a_7f97_11eb_afd8_6d84fc2c2b45row10_col12 {\n",
       "            background-color:  #81a4fb;\n",
       "            color:  #000000;\n",
       "        }    #T_3fe0261a_7f97_11eb_afd8_6d84fc2c2b45row10_col13 {\n",
       "            background-color:  #3b4cc0;\n",
       "            color:  #f1f1f1;\n",
       "        }    #T_3fe0261a_7f97_11eb_afd8_6d84fc2c2b45row10_col14 {\n",
       "            background-color:  #3b4cc0;\n",
       "            color:  #f1f1f1;\n",
       "        }    #T_3fe0261a_7f97_11eb_afd8_6d84fc2c2b45row10_col15 {\n",
       "            background-color:  #3b4cc0;\n",
       "            color:  #f1f1f1;\n",
       "        }    #T_3fe0261a_7f97_11eb_afd8_6d84fc2c2b45row11_col0 {\n",
       "            background-color:  #5875e1;\n",
       "            color:  #000000;\n",
       "        }    #T_3fe0261a_7f97_11eb_afd8_6d84fc2c2b45row11_col1 {\n",
       "            background-color:  #4257c9;\n",
       "            color:  #f1f1f1;\n",
       "        }    #T_3fe0261a_7f97_11eb_afd8_6d84fc2c2b45row11_col2 {\n",
       "            background-color:  #4257c9;\n",
       "            color:  #f1f1f1;\n",
       "        }    #T_3fe0261a_7f97_11eb_afd8_6d84fc2c2b45row11_col3 {\n",
       "            background-color:  #5470de;\n",
       "            color:  #000000;\n",
       "        }    #T_3fe0261a_7f97_11eb_afd8_6d84fc2c2b45row11_col4 {\n",
       "            background-color:  #f7aa8c;\n",
       "            color:  #000000;\n",
       "        }    #T_3fe0261a_7f97_11eb_afd8_6d84fc2c2b45row11_col5 {\n",
       "            background-color:  #465ecf;\n",
       "            color:  #f1f1f1;\n",
       "        }    #T_3fe0261a_7f97_11eb_afd8_6d84fc2c2b45row11_col6 {\n",
       "            background-color:  #3b4cc0;\n",
       "            color:  #f1f1f1;\n",
       "        }    #T_3fe0261a_7f97_11eb_afd8_6d84fc2c2b45row11_col7 {\n",
       "            background-color:  #4961d2;\n",
       "            color:  #f1f1f1;\n",
       "        }    #T_3fe0261a_7f97_11eb_afd8_6d84fc2c2b45row11_col8 {\n",
       "            background-color:  #6788ee;\n",
       "            color:  #000000;\n",
       "        }    #T_3fe0261a_7f97_11eb_afd8_6d84fc2c2b45row11_col9 {\n",
       "            background-color:  #3b4cc0;\n",
       "            color:  #f1f1f1;\n",
       "        }    #T_3fe0261a_7f97_11eb_afd8_6d84fc2c2b45row11_col10 {\n",
       "            background-color:  #81a4fb;\n",
       "            color:  #000000;\n",
       "        }    #T_3fe0261a_7f97_11eb_afd8_6d84fc2c2b45row11_col11 {\n",
       "            background-color:  #b40426;\n",
       "            color:  #f1f1f1;\n",
       "        }    #T_3fe0261a_7f97_11eb_afd8_6d84fc2c2b45row11_col12 {\n",
       "            background-color:  #465ecf;\n",
       "            color:  #f1f1f1;\n",
       "        }    #T_3fe0261a_7f97_11eb_afd8_6d84fc2c2b45row11_col13 {\n",
       "            background-color:  #4961d2;\n",
       "            color:  #f1f1f1;\n",
       "        }    #T_3fe0261a_7f97_11eb_afd8_6d84fc2c2b45row11_col14 {\n",
       "            background-color:  #465ecf;\n",
       "            color:  #f1f1f1;\n",
       "        }    #T_3fe0261a_7f97_11eb_afd8_6d84fc2c2b45row11_col15 {\n",
       "            background-color:  #4e68d8;\n",
       "            color:  #000000;\n",
       "        }    #T_3fe0261a_7f97_11eb_afd8_6d84fc2c2b45row12_col0 {\n",
       "            background-color:  #485fd1;\n",
       "            color:  #f1f1f1;\n",
       "        }    #T_3fe0261a_7f97_11eb_afd8_6d84fc2c2b45row12_col1 {\n",
       "            background-color:  #3d50c3;\n",
       "            color:  #f1f1f1;\n",
       "        }    #T_3fe0261a_7f97_11eb_afd8_6d84fc2c2b45row12_col2 {\n",
       "            background-color:  #455cce;\n",
       "            color:  #f1f1f1;\n",
       "        }    #T_3fe0261a_7f97_11eb_afd8_6d84fc2c2b45row12_col3 {\n",
       "            background-color:  #6180e9;\n",
       "            color:  #000000;\n",
       "        }    #T_3fe0261a_7f97_11eb_afd8_6d84fc2c2b45row12_col4 {\n",
       "            background-color:  #3b4cc0;\n",
       "            color:  #f1f1f1;\n",
       "        }    #T_3fe0261a_7f97_11eb_afd8_6d84fc2c2b45row12_col5 {\n",
       "            background-color:  #3b4cc0;\n",
       "            color:  #f1f1f1;\n",
       "        }    #T_3fe0261a_7f97_11eb_afd8_6d84fc2c2b45row12_col6 {\n",
       "            background-color:  #6a8bef;\n",
       "            color:  #000000;\n",
       "        }    #T_3fe0261a_7f97_11eb_afd8_6d84fc2c2b45row12_col7 {\n",
       "            background-color:  #5673e0;\n",
       "            color:  #000000;\n",
       "        }    #T_3fe0261a_7f97_11eb_afd8_6d84fc2c2b45row12_col8 {\n",
       "            background-color:  #6485ec;\n",
       "            color:  #000000;\n",
       "        }    #T_3fe0261a_7f97_11eb_afd8_6d84fc2c2b45row12_col9 {\n",
       "            background-color:  #4f69d9;\n",
       "            color:  #000000;\n",
       "        }    #T_3fe0261a_7f97_11eb_afd8_6d84fc2c2b45row12_col10 {\n",
       "            background-color:  #5d7ce6;\n",
       "            color:  #000000;\n",
       "        }    #T_3fe0261a_7f97_11eb_afd8_6d84fc2c2b45row12_col11 {\n",
       "            background-color:  #3b4cc0;\n",
       "            color:  #f1f1f1;\n",
       "        }    #T_3fe0261a_7f97_11eb_afd8_6d84fc2c2b45row12_col12 {\n",
       "            background-color:  #b40426;\n",
       "            color:  #f1f1f1;\n",
       "        }    #T_3fe0261a_7f97_11eb_afd8_6d84fc2c2b45row12_col13 {\n",
       "            background-color:  #80a3fa;\n",
       "            color:  #000000;\n",
       "        }    #T_3fe0261a_7f97_11eb_afd8_6d84fc2c2b45row12_col14 {\n",
       "            background-color:  #779af7;\n",
       "            color:  #000000;\n",
       "        }    #T_3fe0261a_7f97_11eb_afd8_6d84fc2c2b45row12_col15 {\n",
       "            background-color:  #3b4cc0;\n",
       "            color:  #f1f1f1;\n",
       "        }    #T_3fe0261a_7f97_11eb_afd8_6d84fc2c2b45row13_col0 {\n",
       "            background-color:  #6180e9;\n",
       "            color:  #000000;\n",
       "        }    #T_3fe0261a_7f97_11eb_afd8_6d84fc2c2b45row13_col1 {\n",
       "            background-color:  #3f53c6;\n",
       "            color:  #f1f1f1;\n",
       "        }    #T_3fe0261a_7f97_11eb_afd8_6d84fc2c2b45row13_col2 {\n",
       "            background-color:  #4055c8;\n",
       "            color:  #f1f1f1;\n",
       "        }    #T_3fe0261a_7f97_11eb_afd8_6d84fc2c2b45row13_col3 {\n",
       "            background-color:  #6c8ff1;\n",
       "            color:  #000000;\n",
       "        }    #T_3fe0261a_7f97_11eb_afd8_6d84fc2c2b45row13_col4 {\n",
       "            background-color:  #97b8ff;\n",
       "            color:  #000000;\n",
       "        }    #T_3fe0261a_7f97_11eb_afd8_6d84fc2c2b45row13_col5 {\n",
       "            background-color:  #3b4cc0;\n",
       "            color:  #f1f1f1;\n",
       "        }    #T_3fe0261a_7f97_11eb_afd8_6d84fc2c2b45row13_col6 {\n",
       "            background-color:  #c9d7f0;\n",
       "            color:  #000000;\n",
       "        }    #T_3fe0261a_7f97_11eb_afd8_6d84fc2c2b45row13_col7 {\n",
       "            background-color:  #7699f6;\n",
       "            color:  #000000;\n",
       "        }    #T_3fe0261a_7f97_11eb_afd8_6d84fc2c2b45row13_col8 {\n",
       "            background-color:  #3b4cc0;\n",
       "            color:  #f1f1f1;\n",
       "        }    #T_3fe0261a_7f97_11eb_afd8_6d84fc2c2b45row13_col9 {\n",
       "            background-color:  #4257c9;\n",
       "            color:  #f1f1f1;\n",
       "        }    #T_3fe0261a_7f97_11eb_afd8_6d84fc2c2b45row13_col10 {\n",
       "            background-color:  #3b4cc0;\n",
       "            color:  #f1f1f1;\n",
       "        }    #T_3fe0261a_7f97_11eb_afd8_6d84fc2c2b45row13_col11 {\n",
       "            background-color:  #6282ea;\n",
       "            color:  #000000;\n",
       "        }    #T_3fe0261a_7f97_11eb_afd8_6d84fc2c2b45row13_col12 {\n",
       "            background-color:  #a1c0ff;\n",
       "            color:  #000000;\n",
       "        }    #T_3fe0261a_7f97_11eb_afd8_6d84fc2c2b45row13_col13 {\n",
       "            background-color:  #b40426;\n",
       "            color:  #f1f1f1;\n",
       "        }    #T_3fe0261a_7f97_11eb_afd8_6d84fc2c2b45row13_col14 {\n",
       "            background-color:  #ca3b37;\n",
       "            color:  #f1f1f1;\n",
       "        }    #T_3fe0261a_7f97_11eb_afd8_6d84fc2c2b45row13_col15 {\n",
       "            background-color:  #779af7;\n",
       "            color:  #000000;\n",
       "        }    #T_3fe0261a_7f97_11eb_afd8_6d84fc2c2b45row14_col0 {\n",
       "            background-color:  #5b7ae5;\n",
       "            color:  #000000;\n",
       "        }    #T_3fe0261a_7f97_11eb_afd8_6d84fc2c2b45row14_col1 {\n",
       "            background-color:  #3f53c6;\n",
       "            color:  #f1f1f1;\n",
       "        }    #T_3fe0261a_7f97_11eb_afd8_6d84fc2c2b45row14_col2 {\n",
       "            background-color:  #4257c9;\n",
       "            color:  #f1f1f1;\n",
       "        }    #T_3fe0261a_7f97_11eb_afd8_6d84fc2c2b45row14_col3 {\n",
       "            background-color:  #7093f3;\n",
       "            color:  #000000;\n",
       "        }    #T_3fe0261a_7f97_11eb_afd8_6d84fc2c2b45row14_col4 {\n",
       "            background-color:  #9fbfff;\n",
       "            color:  #000000;\n",
       "        }    #T_3fe0261a_7f97_11eb_afd8_6d84fc2c2b45row14_col5 {\n",
       "            background-color:  #485fd1;\n",
       "            color:  #f1f1f1;\n",
       "        }    #T_3fe0261a_7f97_11eb_afd8_6d84fc2c2b45row14_col6 {\n",
       "            background-color:  #d1dae9;\n",
       "            color:  #000000;\n",
       "        }    #T_3fe0261a_7f97_11eb_afd8_6d84fc2c2b45row14_col7 {\n",
       "            background-color:  #7396f5;\n",
       "            color:  #000000;\n",
       "        }    #T_3fe0261a_7f97_11eb_afd8_6d84fc2c2b45row14_col8 {\n",
       "            background-color:  #465ecf;\n",
       "            color:  #f1f1f1;\n",
       "        }    #T_3fe0261a_7f97_11eb_afd8_6d84fc2c2b45row14_col9 {\n",
       "            background-color:  #4257c9;\n",
       "            color:  #f1f1f1;\n",
       "        }    #T_3fe0261a_7f97_11eb_afd8_6d84fc2c2b45row14_col10 {\n",
       "            background-color:  #3d50c3;\n",
       "            color:  #f1f1f1;\n",
       "        }    #T_3fe0261a_7f97_11eb_afd8_6d84fc2c2b45row14_col11 {\n",
       "            background-color:  #6180e9;\n",
       "            color:  #000000;\n",
       "        }    #T_3fe0261a_7f97_11eb_afd8_6d84fc2c2b45row14_col12 {\n",
       "            background-color:  #9bbcff;\n",
       "            color:  #000000;\n",
       "        }    #T_3fe0261a_7f97_11eb_afd8_6d84fc2c2b45row14_col13 {\n",
       "            background-color:  #ca3b37;\n",
       "            color:  #f1f1f1;\n",
       "        }    #T_3fe0261a_7f97_11eb_afd8_6d84fc2c2b45row14_col14 {\n",
       "            background-color:  #b40426;\n",
       "            color:  #f1f1f1;\n",
       "        }    #T_3fe0261a_7f97_11eb_afd8_6d84fc2c2b45row14_col15 {\n",
       "            background-color:  #84a7fc;\n",
       "            color:  #000000;\n",
       "        }    #T_3fe0261a_7f97_11eb_afd8_6d84fc2c2b45row15_col0 {\n",
       "            background-color:  #4257c9;\n",
       "            color:  #f1f1f1;\n",
       "        }    #T_3fe0261a_7f97_11eb_afd8_6d84fc2c2b45row15_col1 {\n",
       "            background-color:  #4257c9;\n",
       "            color:  #f1f1f1;\n",
       "        }    #T_3fe0261a_7f97_11eb_afd8_6d84fc2c2b45row15_col2 {\n",
       "            background-color:  #485fd1;\n",
       "            color:  #f1f1f1;\n",
       "        }    #T_3fe0261a_7f97_11eb_afd8_6d84fc2c2b45row15_col3 {\n",
       "            background-color:  #7295f4;\n",
       "            color:  #000000;\n",
       "        }    #T_3fe0261a_7f97_11eb_afd8_6d84fc2c2b45row15_col4 {\n",
       "            background-color:  #98b9ff;\n",
       "            color:  #000000;\n",
       "        }    #T_3fe0261a_7f97_11eb_afd8_6d84fc2c2b45row15_col5 {\n",
       "            background-color:  #4358cb;\n",
       "            color:  #f1f1f1;\n",
       "        }    #T_3fe0261a_7f97_11eb_afd8_6d84fc2c2b45row15_col6 {\n",
       "            background-color:  #7597f6;\n",
       "            color:  #000000;\n",
       "        }    #T_3fe0261a_7f97_11eb_afd8_6d84fc2c2b45row15_col7 {\n",
       "            background-color:  #465ecf;\n",
       "            color:  #f1f1f1;\n",
       "        }    #T_3fe0261a_7f97_11eb_afd8_6d84fc2c2b45row15_col8 {\n",
       "            background-color:  #536edd;\n",
       "            color:  #000000;\n",
       "        }    #T_3fe0261a_7f97_11eb_afd8_6d84fc2c2b45row15_col9 {\n",
       "            background-color:  #4257c9;\n",
       "            color:  #f1f1f1;\n",
       "        }    #T_3fe0261a_7f97_11eb_afd8_6d84fc2c2b45row15_col10 {\n",
       "            background-color:  #6485ec;\n",
       "            color:  #000000;\n",
       "        }    #T_3fe0261a_7f97_11eb_afd8_6d84fc2c2b45row15_col11 {\n",
       "            background-color:  #8fb1fe;\n",
       "            color:  #000000;\n",
       "        }    #T_3fe0261a_7f97_11eb_afd8_6d84fc2c2b45row15_col12 {\n",
       "            background-color:  #88abfd;\n",
       "            color:  #000000;\n",
       "        }    #T_3fe0261a_7f97_11eb_afd8_6d84fc2c2b45row15_col13 {\n",
       "            background-color:  #9ebeff;\n",
       "            color:  #000000;\n",
       "        }    #T_3fe0261a_7f97_11eb_afd8_6d84fc2c2b45row15_col14 {\n",
       "            background-color:  #a6c4fe;\n",
       "            color:  #000000;\n",
       "        }    #T_3fe0261a_7f97_11eb_afd8_6d84fc2c2b45row15_col15 {\n",
       "            background-color:  #b40426;\n",
       "            color:  #f1f1f1;\n",
       "        }</style><table id=\"T_3fe0261a_7f97_11eb_afd8_6d84fc2c2b45\" ><thead>    <tr>        <th class=\"blank level0\" ></th>        <th class=\"col_heading level0 col0\" >product</th>        <th class=\"col_heading level0 col1\" >amount</th>        <th class=\"col_heading level0 col2\" >price</th>        <th class=\"col_heading level0 col3\" >unit</th>        <th class=\"col_heading level0 col4\" >tax</th>        <th class=\"col_heading level0 col5\" >invoiceid</th>        <th class=\"col_heading level0 col6\" >bodyid</th>        <th class=\"col_heading level0 col7\" >invoicestatusid</th>        <th class=\"col_heading level0 col8\" >customername</th>        <th class=\"col_heading level0 col9\" >currencycode</th>        <th class=\"col_heading level0 col10\" >account_code</th>        <th class=\"col_heading level0 col11\" >vat_deducation</th>        <th class=\"col_heading level0 col12\" >vat_status</th>        <th class=\"col_heading level0 col13\" >month</th>        <th class=\"col_heading level0 col14\" >week</th>        <th class=\"col_heading level0 col15\" >weekday</th>    </tr></thead><tbody>\n",
       "                <tr>\n",
       "                        <th id=\"T_3fe0261a_7f97_11eb_afd8_6d84fc2c2b45level0_row0\" class=\"row_heading level0 row0\" >product</th>\n",
       "                        <td id=\"T_3fe0261a_7f97_11eb_afd8_6d84fc2c2b45row0_col0\" class=\"data row0 col0\" >1.000000</td>\n",
       "                        <td id=\"T_3fe0261a_7f97_11eb_afd8_6d84fc2c2b45row0_col1\" class=\"data row0 col1\" >0.005999</td>\n",
       "                        <td id=\"T_3fe0261a_7f97_11eb_afd8_6d84fc2c2b45row0_col2\" class=\"data row0 col2\" >0.003476</td>\n",
       "                        <td id=\"T_3fe0261a_7f97_11eb_afd8_6d84fc2c2b45row0_col3\" class=\"data row0 col3\" >-0.084122</td>\n",
       "                        <td id=\"T_3fe0261a_7f97_11eb_afd8_6d84fc2c2b45row0_col4\" class=\"data row0 col4\" >0.010655</td>\n",
       "                        <td id=\"T_3fe0261a_7f97_11eb_afd8_6d84fc2c2b45row0_col5\" class=\"data row0 col5\" >0.063291</td>\n",
       "                        <td id=\"T_3fe0261a_7f97_11eb_afd8_6d84fc2c2b45row0_col6\" class=\"data row0 col6\" >-0.068850</td>\n",
       "                        <td id=\"T_3fe0261a_7f97_11eb_afd8_6d84fc2c2b45row0_col7\" class=\"data row0 col7\" >0.039266</td>\n",
       "                        <td id=\"T_3fe0261a_7f97_11eb_afd8_6d84fc2c2b45row0_col8\" class=\"data row0 col8\" >-0.046385</td>\n",
       "                        <td id=\"T_3fe0261a_7f97_11eb_afd8_6d84fc2c2b45row0_col9\" class=\"data row0 col9\" >0.010195</td>\n",
       "                        <td id=\"T_3fe0261a_7f97_11eb_afd8_6d84fc2c2b45row0_col10\" class=\"data row0 col10\" >-0.093380</td>\n",
       "                        <td id=\"T_3fe0261a_7f97_11eb_afd8_6d84fc2c2b45row0_col11\" class=\"data row0 col11\" >0.011462</td>\n",
       "                        <td id=\"T_3fe0261a_7f97_11eb_afd8_6d84fc2c2b45row0_col12\" class=\"data row0 col12\" >-0.043856</td>\n",
       "                        <td id=\"T_3fe0261a_7f97_11eb_afd8_6d84fc2c2b45row0_col13\" class=\"data row0 col13\" >0.041067</td>\n",
       "                        <td id=\"T_3fe0261a_7f97_11eb_afd8_6d84fc2c2b45row0_col14\" class=\"data row0 col14\" >0.022585</td>\n",
       "                        <td id=\"T_3fe0261a_7f97_11eb_afd8_6d84fc2c2b45row0_col15\" class=\"data row0 col15\" >-0.065188</td>\n",
       "            </tr>\n",
       "            <tr>\n",
       "                        <th id=\"T_3fe0261a_7f97_11eb_afd8_6d84fc2c2b45level0_row1\" class=\"row_heading level0 row1\" >amount</th>\n",
       "                        <td id=\"T_3fe0261a_7f97_11eb_afd8_6d84fc2c2b45row1_col0\" class=\"data row1 col0\" >0.005999</td>\n",
       "                        <td id=\"T_3fe0261a_7f97_11eb_afd8_6d84fc2c2b45row1_col1\" class=\"data row1 col1\" >1.000000</td>\n",
       "                        <td id=\"T_3fe0261a_7f97_11eb_afd8_6d84fc2c2b45row1_col2\" class=\"data row1 col2\" >-0.000677</td>\n",
       "                        <td id=\"T_3fe0261a_7f97_11eb_afd8_6d84fc2c2b45row1_col3\" class=\"data row1 col3\" >-0.005936</td>\n",
       "                        <td id=\"T_3fe0261a_7f97_11eb_afd8_6d84fc2c2b45row1_col4\" class=\"data row1 col4\" >0.012604</td>\n",
       "                        <td id=\"T_3fe0261a_7f97_11eb_afd8_6d84fc2c2b45row1_col5\" class=\"data row1 col5\" >-0.007487</td>\n",
       "                        <td id=\"T_3fe0261a_7f97_11eb_afd8_6d84fc2c2b45row1_col6\" class=\"data row1 col6\" >-0.008100</td>\n",
       "                        <td id=\"T_3fe0261a_7f97_11eb_afd8_6d84fc2c2b45row1_col7\" class=\"data row1 col7\" >0.002900</td>\n",
       "                        <td id=\"T_3fe0261a_7f97_11eb_afd8_6d84fc2c2b45row1_col8\" class=\"data row1 col8\" >-0.016219</td>\n",
       "                        <td id=\"T_3fe0261a_7f97_11eb_afd8_6d84fc2c2b45row1_col9\" class=\"data row1 col9\" >-0.000205</td>\n",
       "                        <td id=\"T_3fe0261a_7f97_11eb_afd8_6d84fc2c2b45row1_col10\" class=\"data row1 col10\" >0.000898</td>\n",
       "                        <td id=\"T_3fe0261a_7f97_11eb_afd8_6d84fc2c2b45row1_col11\" class=\"data row1 col11\" >0.008160</td>\n",
       "                        <td id=\"T_3fe0261a_7f97_11eb_afd8_6d84fc2c2b45row1_col12\" class=\"data row1 col12\" >-0.004627</td>\n",
       "                        <td id=\"T_3fe0261a_7f97_11eb_afd8_6d84fc2c2b45row1_col13\" class=\"data row1 col13\" >0.001302</td>\n",
       "                        <td id=\"T_3fe0261a_7f97_11eb_afd8_6d84fc2c2b45row1_col14\" class=\"data row1 col14\" >0.000010</td>\n",
       "                        <td id=\"T_3fe0261a_7f97_11eb_afd8_6d84fc2c2b45row1_col15\" class=\"data row1 col15\" >0.008527</td>\n",
       "            </tr>\n",
       "            <tr>\n",
       "                        <th id=\"T_3fe0261a_7f97_11eb_afd8_6d84fc2c2b45level0_row2\" class=\"row_heading level0 row2\" >price</th>\n",
       "                        <td id=\"T_3fe0261a_7f97_11eb_afd8_6d84fc2c2b45row2_col0\" class=\"data row2 col0\" >0.003476</td>\n",
       "                        <td id=\"T_3fe0261a_7f97_11eb_afd8_6d84fc2c2b45row2_col1\" class=\"data row2 col1\" >-0.000677</td>\n",
       "                        <td id=\"T_3fe0261a_7f97_11eb_afd8_6d84fc2c2b45row2_col2\" class=\"data row2 col2\" >1.000000</td>\n",
       "                        <td id=\"T_3fe0261a_7f97_11eb_afd8_6d84fc2c2b45row2_col3\" class=\"data row2 col3\" >0.002522</td>\n",
       "                        <td id=\"T_3fe0261a_7f97_11eb_afd8_6d84fc2c2b45row2_col4\" class=\"data row2 col4\" >-0.034340</td>\n",
       "                        <td id=\"T_3fe0261a_7f97_11eb_afd8_6d84fc2c2b45row2_col5\" class=\"data row2 col5\" >-0.014049</td>\n",
       "                        <td id=\"T_3fe0261a_7f97_11eb_afd8_6d84fc2c2b45row2_col6\" class=\"data row2 col6\" >-0.022348</td>\n",
       "                        <td id=\"T_3fe0261a_7f97_11eb_afd8_6d84fc2c2b45row2_col7\" class=\"data row2 col7\" >0.016357</td>\n",
       "                        <td id=\"T_3fe0261a_7f97_11eb_afd8_6d84fc2c2b45row2_col8\" class=\"data row2 col8\" >0.000265</td>\n",
       "                        <td id=\"T_3fe0261a_7f97_11eb_afd8_6d84fc2c2b45row2_col9\" class=\"data row2 col9\" >0.001433</td>\n",
       "                        <td id=\"T_3fe0261a_7f97_11eb_afd8_6d84fc2c2b45row2_col10\" class=\"data row2 col10\" >-0.006014</td>\n",
       "                        <td id=\"T_3fe0261a_7f97_11eb_afd8_6d84fc2c2b45row2_col11\" class=\"data row2 col11\" >-0.007926</td>\n",
       "                        <td id=\"T_3fe0261a_7f97_11eb_afd8_6d84fc2c2b45row2_col12\" class=\"data row2 col12\" >0.003142</td>\n",
       "                        <td id=\"T_3fe0261a_7f97_11eb_afd8_6d84fc2c2b45row2_col13\" class=\"data row2 col13\" >-0.010567</td>\n",
       "                        <td id=\"T_3fe0261a_7f97_11eb_afd8_6d84fc2c2b45row2_col14\" class=\"data row2 col14\" >-0.009462</td>\n",
       "                        <td id=\"T_3fe0261a_7f97_11eb_afd8_6d84fc2c2b45row2_col15\" class=\"data row2 col15\" >0.010904</td>\n",
       "            </tr>\n",
       "            <tr>\n",
       "                        <th id=\"T_3fe0261a_7f97_11eb_afd8_6d84fc2c2b45level0_row3\" class=\"row_heading level0 row3\" >unit</th>\n",
       "                        <td id=\"T_3fe0261a_7f97_11eb_afd8_6d84fc2c2b45row3_col0\" class=\"data row3 col0\" >-0.084122</td>\n",
       "                        <td id=\"T_3fe0261a_7f97_11eb_afd8_6d84fc2c2b45row3_col1\" class=\"data row3 col1\" >-0.005936</td>\n",
       "                        <td id=\"T_3fe0261a_7f97_11eb_afd8_6d84fc2c2b45row3_col2\" class=\"data row3 col2\" >0.002522</td>\n",
       "                        <td id=\"T_3fe0261a_7f97_11eb_afd8_6d84fc2c2b45row3_col3\" class=\"data row3 col3\" >1.000000</td>\n",
       "                        <td id=\"T_3fe0261a_7f97_11eb_afd8_6d84fc2c2b45row3_col4\" class=\"data row3 col4\" >-0.106372</td>\n",
       "                        <td id=\"T_3fe0261a_7f97_11eb_afd8_6d84fc2c2b45row3_col5\" class=\"data row3 col5\" >-0.018604</td>\n",
       "                        <td id=\"T_3fe0261a_7f97_11eb_afd8_6d84fc2c2b45row3_col6\" class=\"data row3 col6\" >0.069016</td>\n",
       "                        <td id=\"T_3fe0261a_7f97_11eb_afd8_6d84fc2c2b45row3_col7\" class=\"data row3 col7\" >-0.006916</td>\n",
       "                        <td id=\"T_3fe0261a_7f97_11eb_afd8_6d84fc2c2b45row3_col8\" class=\"data row3 col8\" >-0.015213</td>\n",
       "                        <td id=\"T_3fe0261a_7f97_11eb_afd8_6d84fc2c2b45row3_col9\" class=\"data row3 col9\" >0.002540</td>\n",
       "                        <td id=\"T_3fe0261a_7f97_11eb_afd8_6d84fc2c2b45row3_col10\" class=\"data row3 col10\" >-0.015106</td>\n",
       "                        <td id=\"T_3fe0261a_7f97_11eb_afd8_6d84fc2c2b45row3_col11\" class=\"data row3 col11\" >-0.014464</td>\n",
       "                        <td id=\"T_3fe0261a_7f97_11eb_afd8_6d84fc2c2b45row3_col12\" class=\"data row3 col12\" >0.030954</td>\n",
       "                        <td id=\"T_3fe0261a_7f97_11eb_afd8_6d84fc2c2b45row3_col13\" class=\"data row3 col13\" >0.070154</td>\n",
       "                        <td id=\"T_3fe0261a_7f97_11eb_afd8_6d84fc2c2b45row3_col14\" class=\"data row3 col14\" >0.082729</td>\n",
       "                        <td id=\"T_3fe0261a_7f97_11eb_afd8_6d84fc2c2b45row3_col15\" class=\"data row3 col15\" >0.083821</td>\n",
       "            </tr>\n",
       "            <tr>\n",
       "                        <th id=\"T_3fe0261a_7f97_11eb_afd8_6d84fc2c2b45level0_row4\" class=\"row_heading level0 row4\" >tax</th>\n",
       "                        <td id=\"T_3fe0261a_7f97_11eb_afd8_6d84fc2c2b45row4_col0\" class=\"data row4 col0\" >0.010655</td>\n",
       "                        <td id=\"T_3fe0261a_7f97_11eb_afd8_6d84fc2c2b45row4_col1\" class=\"data row4 col1\" >0.012604</td>\n",
       "                        <td id=\"T_3fe0261a_7f97_11eb_afd8_6d84fc2c2b45row4_col2\" class=\"data row4 col2\" >-0.034340</td>\n",
       "                        <td id=\"T_3fe0261a_7f97_11eb_afd8_6d84fc2c2b45row4_col3\" class=\"data row4 col3\" >-0.106372</td>\n",
       "                        <td id=\"T_3fe0261a_7f97_11eb_afd8_6d84fc2c2b45row4_col4\" class=\"data row4 col4\" >1.000000</td>\n",
       "                        <td id=\"T_3fe0261a_7f97_11eb_afd8_6d84fc2c2b45row4_col5\" class=\"data row4 col5\" >0.058517</td>\n",
       "                        <td id=\"T_3fe0261a_7f97_11eb_afd8_6d84fc2c2b45row4_col6\" class=\"data row4 col6\" >0.001321</td>\n",
       "                        <td id=\"T_3fe0261a_7f97_11eb_afd8_6d84fc2c2b45row4_col7\" class=\"data row4 col7\" >0.018131</td>\n",
       "                        <td id=\"T_3fe0261a_7f97_11eb_afd8_6d84fc2c2b45row4_col8\" class=\"data row4 col8\" >0.066863</td>\n",
       "                        <td id=\"T_3fe0261a_7f97_11eb_afd8_6d84fc2c2b45row4_col9\" class=\"data row4 col9\" >-0.016307</td>\n",
       "                        <td id=\"T_3fe0261a_7f97_11eb_afd8_6d84fc2c2b45row4_col10\" class=\"data row4 col10\" >-0.036554</td>\n",
       "                        <td id=\"T_3fe0261a_7f97_11eb_afd8_6d84fc2c2b45row4_col11\" class=\"data row4 col11\" >0.588125</td>\n",
       "                        <td id=\"T_3fe0261a_7f97_11eb_afd8_6d84fc2c2b45row4_col12\" class=\"data row4 col12\" >-0.395143</td>\n",
       "                        <td id=\"T_3fe0261a_7f97_11eb_afd8_6d84fc2c2b45row4_col13\" class=\"data row4 col13\" >-0.004318</td>\n",
       "                        <td id=\"T_3fe0261a_7f97_11eb_afd8_6d84fc2c2b45row4_col14\" class=\"data row4 col14\" >0.029855</td>\n",
       "                        <td id=\"T_3fe0261a_7f97_11eb_afd8_6d84fc2c2b45row4_col15\" class=\"data row4 col15\" >0.000367</td>\n",
       "            </tr>\n",
       "            <tr>\n",
       "                        <th id=\"T_3fe0261a_7f97_11eb_afd8_6d84fc2c2b45level0_row5\" class=\"row_heading level0 row5\" >invoiceid</th>\n",
       "                        <td id=\"T_3fe0261a_7f97_11eb_afd8_6d84fc2c2b45row5_col0\" class=\"data row5 col0\" >0.063291</td>\n",
       "                        <td id=\"T_3fe0261a_7f97_11eb_afd8_6d84fc2c2b45row5_col1\" class=\"data row5 col1\" >-0.007487</td>\n",
       "                        <td id=\"T_3fe0261a_7f97_11eb_afd8_6d84fc2c2b45row5_col2\" class=\"data row5 col2\" >-0.014049</td>\n",
       "                        <td id=\"T_3fe0261a_7f97_11eb_afd8_6d84fc2c2b45row5_col3\" class=\"data row5 col3\" >-0.018604</td>\n",
       "                        <td id=\"T_3fe0261a_7f97_11eb_afd8_6d84fc2c2b45row5_col4\" class=\"data row5 col4\" >0.058517</td>\n",
       "                        <td id=\"T_3fe0261a_7f97_11eb_afd8_6d84fc2c2b45row5_col5\" class=\"data row5 col5\" >1.000000</td>\n",
       "                        <td id=\"T_3fe0261a_7f97_11eb_afd8_6d84fc2c2b45row5_col6\" class=\"data row5 col6\" >0.026880</td>\n",
       "                        <td id=\"T_3fe0261a_7f97_11eb_afd8_6d84fc2c2b45row5_col7\" class=\"data row5 col7\" >0.112609</td>\n",
       "                        <td id=\"T_3fe0261a_7f97_11eb_afd8_6d84fc2c2b45row5_col8\" class=\"data row5 col8\" >-0.004514</td>\n",
       "                        <td id=\"T_3fe0261a_7f97_11eb_afd8_6d84fc2c2b45row5_col9\" class=\"data row5 col9\" >0.000171</td>\n",
       "                        <td id=\"T_3fe0261a_7f97_11eb_afd8_6d84fc2c2b45row5_col10\" class=\"data row5 col10\" >0.030360</td>\n",
       "                        <td id=\"T_3fe0261a_7f97_11eb_afd8_6d84fc2c2b45row5_col11\" class=\"data row5 col11\" >0.012319</td>\n",
       "                        <td id=\"T_3fe0261a_7f97_11eb_afd8_6d84fc2c2b45row5_col12\" class=\"data row5 col12\" >-0.029139</td>\n",
       "                        <td id=\"T_3fe0261a_7f97_11eb_afd8_6d84fc2c2b45row5_col13\" class=\"data row5 col13\" >-0.030964</td>\n",
       "                        <td id=\"T_3fe0261a_7f97_11eb_afd8_6d84fc2c2b45row5_col14\" class=\"data row5 col14\" >0.015492</td>\n",
       "                        <td id=\"T_3fe0261a_7f97_11eb_afd8_6d84fc2c2b45row5_col15\" class=\"data row5 col15\" >0.000133</td>\n",
       "            </tr>\n",
       "            <tr>\n",
       "                        <th id=\"T_3fe0261a_7f97_11eb_afd8_6d84fc2c2b45level0_row6\" class=\"row_heading level0 row6\" >bodyid</th>\n",
       "                        <td id=\"T_3fe0261a_7f97_11eb_afd8_6d84fc2c2b45row6_col0\" class=\"data row6 col0\" >-0.068850</td>\n",
       "                        <td id=\"T_3fe0261a_7f97_11eb_afd8_6d84fc2c2b45row6_col1\" class=\"data row6 col1\" >-0.008100</td>\n",
       "                        <td id=\"T_3fe0261a_7f97_11eb_afd8_6d84fc2c2b45row6_col2\" class=\"data row6 col2\" >-0.022348</td>\n",
       "                        <td id=\"T_3fe0261a_7f97_11eb_afd8_6d84fc2c2b45row6_col3\" class=\"data row6 col3\" >0.069016</td>\n",
       "                        <td id=\"T_3fe0261a_7f97_11eb_afd8_6d84fc2c2b45row6_col4\" class=\"data row6 col4\" >0.001321</td>\n",
       "                        <td id=\"T_3fe0261a_7f97_11eb_afd8_6d84fc2c2b45row6_col5\" class=\"data row6 col5\" >0.026880</td>\n",
       "                        <td id=\"T_3fe0261a_7f97_11eb_afd8_6d84fc2c2b45row6_col6\" class=\"data row6 col6\" >1.000000</td>\n",
       "                        <td id=\"T_3fe0261a_7f97_11eb_afd8_6d84fc2c2b45row6_col7\" class=\"data row6 col7\" >0.282661</td>\n",
       "                        <td id=\"T_3fe0261a_7f97_11eb_afd8_6d84fc2c2b45row6_col8\" class=\"data row6 col8\" >0.086370</td>\n",
       "                        <td id=\"T_3fe0261a_7f97_11eb_afd8_6d84fc2c2b45row6_col9\" class=\"data row6 col9\" >0.001819</td>\n",
       "                        <td id=\"T_3fe0261a_7f97_11eb_afd8_6d84fc2c2b45row6_col10\" class=\"data row6 col10\" >-0.059946</td>\n",
       "                        <td id=\"T_3fe0261a_7f97_11eb_afd8_6d84fc2c2b45row6_col11\" class=\"data row6 col11\" >-0.086119</td>\n",
       "                        <td id=\"T_3fe0261a_7f97_11eb_afd8_6d84fc2c2b45row6_col12\" class=\"data row6 col12\" >0.078275</td>\n",
       "                        <td id=\"T_3fe0261a_7f97_11eb_afd8_6d84fc2c2b45row6_col13\" class=\"data row6 col13\" >0.377461</td>\n",
       "                        <td id=\"T_3fe0261a_7f97_11eb_afd8_6d84fc2c2b45row6_col14\" class=\"data row6 col14\" >0.408735</td>\n",
       "                        <td id=\"T_3fe0261a_7f97_11eb_afd8_6d84fc2c2b45row6_col15\" class=\"data row6 col15\" >0.113159</td>\n",
       "            </tr>\n",
       "            <tr>\n",
       "                        <th id=\"T_3fe0261a_7f97_11eb_afd8_6d84fc2c2b45level0_row7\" class=\"row_heading level0 row7\" >invoicestatusid</th>\n",
       "                        <td id=\"T_3fe0261a_7f97_11eb_afd8_6d84fc2c2b45row7_col0\" class=\"data row7 col0\" >0.039266</td>\n",
       "                        <td id=\"T_3fe0261a_7f97_11eb_afd8_6d84fc2c2b45row7_col1\" class=\"data row7 col1\" >0.002900</td>\n",
       "                        <td id=\"T_3fe0261a_7f97_11eb_afd8_6d84fc2c2b45row7_col2\" class=\"data row7 col2\" >0.016357</td>\n",
       "                        <td id=\"T_3fe0261a_7f97_11eb_afd8_6d84fc2c2b45row7_col3\" class=\"data row7 col3\" >-0.006916</td>\n",
       "                        <td id=\"T_3fe0261a_7f97_11eb_afd8_6d84fc2c2b45row7_col4\" class=\"data row7 col4\" >0.018131</td>\n",
       "                        <td id=\"T_3fe0261a_7f97_11eb_afd8_6d84fc2c2b45row7_col5\" class=\"data row7 col5\" >0.112609</td>\n",
       "                        <td id=\"T_3fe0261a_7f97_11eb_afd8_6d84fc2c2b45row7_col6\" class=\"data row7 col6\" >0.282661</td>\n",
       "                        <td id=\"T_3fe0261a_7f97_11eb_afd8_6d84fc2c2b45row7_col7\" class=\"data row7 col7\" >1.000000</td>\n",
       "                        <td id=\"T_3fe0261a_7f97_11eb_afd8_6d84fc2c2b45row7_col8\" class=\"data row7 col8\" >-0.023149</td>\n",
       "                        <td id=\"T_3fe0261a_7f97_11eb_afd8_6d84fc2c2b45row7_col9\" class=\"data row7 col9\" >-0.000292</td>\n",
       "                        <td id=\"T_3fe0261a_7f97_11eb_afd8_6d84fc2c2b45row7_col10\" class=\"data row7 col10\" >-0.078050</td>\n",
       "                        <td id=\"T_3fe0261a_7f97_11eb_afd8_6d84fc2c2b45row7_col11\" class=\"data row7 col11\" >-0.026014</td>\n",
       "                        <td id=\"T_3fe0261a_7f97_11eb_afd8_6d84fc2c2b45row7_col12\" class=\"data row7 col12\" >0.021221</td>\n",
       "                        <td id=\"T_3fe0261a_7f97_11eb_afd8_6d84fc2c2b45row7_col13\" class=\"data row7 col13\" >0.120557</td>\n",
       "                        <td id=\"T_3fe0261a_7f97_11eb_afd8_6d84fc2c2b45row7_col14\" class=\"data row7 col14\" >0.114403</td>\n",
       "                        <td id=\"T_3fe0261a_7f97_11eb_afd8_6d84fc2c2b45row7_col15\" class=\"data row7 col15\" >-0.032048</td>\n",
       "            </tr>\n",
       "            <tr>\n",
       "                        <th id=\"T_3fe0261a_7f97_11eb_afd8_6d84fc2c2b45level0_row8\" class=\"row_heading level0 row8\" >customername</th>\n",
       "                        <td id=\"T_3fe0261a_7f97_11eb_afd8_6d84fc2c2b45row8_col0\" class=\"data row8 col0\" >-0.046385</td>\n",
       "                        <td id=\"T_3fe0261a_7f97_11eb_afd8_6d84fc2c2b45row8_col1\" class=\"data row8 col1\" >-0.016219</td>\n",
       "                        <td id=\"T_3fe0261a_7f97_11eb_afd8_6d84fc2c2b45row8_col2\" class=\"data row8 col2\" >0.000265</td>\n",
       "                        <td id=\"T_3fe0261a_7f97_11eb_afd8_6d84fc2c2b45row8_col3\" class=\"data row8 col3\" >-0.015213</td>\n",
       "                        <td id=\"T_3fe0261a_7f97_11eb_afd8_6d84fc2c2b45row8_col4\" class=\"data row8 col4\" >0.066863</td>\n",
       "                        <td id=\"T_3fe0261a_7f97_11eb_afd8_6d84fc2c2b45row8_col5\" class=\"data row8 col5\" >-0.004514</td>\n",
       "                        <td id=\"T_3fe0261a_7f97_11eb_afd8_6d84fc2c2b45row8_col6\" class=\"data row8 col6\" >0.086370</td>\n",
       "                        <td id=\"T_3fe0261a_7f97_11eb_afd8_6d84fc2c2b45row8_col7\" class=\"data row8 col7\" >-0.023149</td>\n",
       "                        <td id=\"T_3fe0261a_7f97_11eb_afd8_6d84fc2c2b45row8_col8\" class=\"data row8 col8\" >1.000000</td>\n",
       "                        <td id=\"T_3fe0261a_7f97_11eb_afd8_6d84fc2c2b45row8_col9\" class=\"data row8 col9\" >0.001065</td>\n",
       "                        <td id=\"T_3fe0261a_7f97_11eb_afd8_6d84fc2c2b45row8_col10\" class=\"data row8 col10\" >-0.123969</td>\n",
       "                        <td id=\"T_3fe0261a_7f97_11eb_afd8_6d84fc2c2b45row8_col11\" class=\"data row8 col11\" >0.019913</td>\n",
       "                        <td id=\"T_3fe0261a_7f97_11eb_afd8_6d84fc2c2b45row8_col12\" class=\"data row8 col12\" >0.010730</td>\n",
       "                        <td id=\"T_3fe0261a_7f97_11eb_afd8_6d84fc2c2b45row8_col13\" class=\"data row8 col13\" >-0.141335</td>\n",
       "                        <td id=\"T_3fe0261a_7f97_11eb_afd8_6d84fc2c2b45row8_col14\" class=\"data row8 col14\" >-0.093112</td>\n",
       "                        <td id=\"T_3fe0261a_7f97_11eb_afd8_6d84fc2c2b45row8_col15\" class=\"data row8 col15\" >-0.048831</td>\n",
       "            </tr>\n",
       "            <tr>\n",
       "                        <th id=\"T_3fe0261a_7f97_11eb_afd8_6d84fc2c2b45level0_row9\" class=\"row_heading level0 row9\" >currencycode</th>\n",
       "                        <td id=\"T_3fe0261a_7f97_11eb_afd8_6d84fc2c2b45row9_col0\" class=\"data row9 col0\" >0.010195</td>\n",
       "                        <td id=\"T_3fe0261a_7f97_11eb_afd8_6d84fc2c2b45row9_col1\" class=\"data row9 col1\" >-0.000205</td>\n",
       "                        <td id=\"T_3fe0261a_7f97_11eb_afd8_6d84fc2c2b45row9_col2\" class=\"data row9 col2\" >0.001433</td>\n",
       "                        <td id=\"T_3fe0261a_7f97_11eb_afd8_6d84fc2c2b45row9_col3\" class=\"data row9 col3\" >0.002540</td>\n",
       "                        <td id=\"T_3fe0261a_7f97_11eb_afd8_6d84fc2c2b45row9_col4\" class=\"data row9 col4\" >-0.016307</td>\n",
       "                        <td id=\"T_3fe0261a_7f97_11eb_afd8_6d84fc2c2b45row9_col5\" class=\"data row9 col5\" >0.000171</td>\n",
       "                        <td id=\"T_3fe0261a_7f97_11eb_afd8_6d84fc2c2b45row9_col6\" class=\"data row9 col6\" >0.001819</td>\n",
       "                        <td id=\"T_3fe0261a_7f97_11eb_afd8_6d84fc2c2b45row9_col7\" class=\"data row9 col7\" >-0.000292</td>\n",
       "                        <td id=\"T_3fe0261a_7f97_11eb_afd8_6d84fc2c2b45row9_col8\" class=\"data row9 col8\" >0.001065</td>\n",
       "                        <td id=\"T_3fe0261a_7f97_11eb_afd8_6d84fc2c2b45row9_col9\" class=\"data row9 col9\" >1.000000</td>\n",
       "                        <td id=\"T_3fe0261a_7f97_11eb_afd8_6d84fc2c2b45row9_col10\" class=\"data row9 col10\" >0.005727</td>\n",
       "                        <td id=\"T_3fe0261a_7f97_11eb_afd8_6d84fc2c2b45row9_col11\" class=\"data row9 col11\" >-0.023655</td>\n",
       "                        <td id=\"T_3fe0261a_7f97_11eb_afd8_6d84fc2c2b45row9_col12\" class=\"data row9 col12\" >0.044711</td>\n",
       "                        <td id=\"T_3fe0261a_7f97_11eb_afd8_6d84fc2c2b45row9_col13\" class=\"data row9 col13\" >0.000375</td>\n",
       "                        <td id=\"T_3fe0261a_7f97_11eb_afd8_6d84fc2c2b45row9_col14\" class=\"data row9 col14\" >0.003181</td>\n",
       "                        <td id=\"T_3fe0261a_7f97_11eb_afd8_6d84fc2c2b45row9_col15\" class=\"data row9 col15\" >0.002299</td>\n",
       "            </tr>\n",
       "            <tr>\n",
       "                        <th id=\"T_3fe0261a_7f97_11eb_afd8_6d84fc2c2b45level0_row10\" class=\"row_heading level0 row10\" >account_code</th>\n",
       "                        <td id=\"T_3fe0261a_7f97_11eb_afd8_6d84fc2c2b45row10_col0\" class=\"data row10 col0\" >-0.093380</td>\n",
       "                        <td id=\"T_3fe0261a_7f97_11eb_afd8_6d84fc2c2b45row10_col1\" class=\"data row10 col1\" >0.000898</td>\n",
       "                        <td id=\"T_3fe0261a_7f97_11eb_afd8_6d84fc2c2b45row10_col2\" class=\"data row10 col2\" >-0.006014</td>\n",
       "                        <td id=\"T_3fe0261a_7f97_11eb_afd8_6d84fc2c2b45row10_col3\" class=\"data row10 col3\" >-0.015106</td>\n",
       "                        <td id=\"T_3fe0261a_7f97_11eb_afd8_6d84fc2c2b45row10_col4\" class=\"data row10 col4\" >-0.036554</td>\n",
       "                        <td id=\"T_3fe0261a_7f97_11eb_afd8_6d84fc2c2b45row10_col5\" class=\"data row10 col5\" >0.030360</td>\n",
       "                        <td id=\"T_3fe0261a_7f97_11eb_afd8_6d84fc2c2b45row10_col6\" class=\"data row10 col6\" >-0.059946</td>\n",
       "                        <td id=\"T_3fe0261a_7f97_11eb_afd8_6d84fc2c2b45row10_col7\" class=\"data row10 col7\" >-0.078050</td>\n",
       "                        <td id=\"T_3fe0261a_7f97_11eb_afd8_6d84fc2c2b45row10_col8\" class=\"data row10 col8\" >-0.123969</td>\n",
       "                        <td id=\"T_3fe0261a_7f97_11eb_afd8_6d84fc2c2b45row10_col9\" class=\"data row10 col9\" >0.005727</td>\n",
       "                        <td id=\"T_3fe0261a_7f97_11eb_afd8_6d84fc2c2b45row10_col10\" class=\"data row10 col10\" >1.000000</td>\n",
       "                        <td id=\"T_3fe0261a_7f97_11eb_afd8_6d84fc2c2b45row10_col11\" class=\"data row10 col11\" >0.033555</td>\n",
       "                        <td id=\"T_3fe0261a_7f97_11eb_afd8_6d84fc2c2b45row10_col12\" class=\"data row10 col12\" >-0.092509</td>\n",
       "                        <td id=\"T_3fe0261a_7f97_11eb_afd8_6d84fc2c2b45row10_col13\" class=\"data row10 col13\" >-0.231221</td>\n",
       "                        <td id=\"T_3fe0261a_7f97_11eb_afd8_6d84fc2c2b45row10_col14\" class=\"data row10 col14\" >-0.220550</td>\n",
       "                        <td id=\"T_3fe0261a_7f97_11eb_afd8_6d84fc2c2b45row10_col15\" class=\"data row10 col15\" >-0.065840</td>\n",
       "            </tr>\n",
       "            <tr>\n",
       "                        <th id=\"T_3fe0261a_7f97_11eb_afd8_6d84fc2c2b45level0_row11\" class=\"row_heading level0 row11\" >vat_deducation</th>\n",
       "                        <td id=\"T_3fe0261a_7f97_11eb_afd8_6d84fc2c2b45row11_col0\" class=\"data row11 col0\" >0.011462</td>\n",
       "                        <td id=\"T_3fe0261a_7f97_11eb_afd8_6d84fc2c2b45row11_col1\" class=\"data row11 col1\" >0.008160</td>\n",
       "                        <td id=\"T_3fe0261a_7f97_11eb_afd8_6d84fc2c2b45row11_col2\" class=\"data row11 col2\" >-0.007926</td>\n",
       "                        <td id=\"T_3fe0261a_7f97_11eb_afd8_6d84fc2c2b45row11_col3\" class=\"data row11 col3\" >-0.014464</td>\n",
       "                        <td id=\"T_3fe0261a_7f97_11eb_afd8_6d84fc2c2b45row11_col4\" class=\"data row11 col4\" >0.588125</td>\n",
       "                        <td id=\"T_3fe0261a_7f97_11eb_afd8_6d84fc2c2b45row11_col5\" class=\"data row11 col5\" >0.012319</td>\n",
       "                        <td id=\"T_3fe0261a_7f97_11eb_afd8_6d84fc2c2b45row11_col6\" class=\"data row11 col6\" >-0.086119</td>\n",
       "                        <td id=\"T_3fe0261a_7f97_11eb_afd8_6d84fc2c2b45row11_col7\" class=\"data row11 col7\" >-0.026014</td>\n",
       "                        <td id=\"T_3fe0261a_7f97_11eb_afd8_6d84fc2c2b45row11_col8\" class=\"data row11 col8\" >0.019913</td>\n",
       "                        <td id=\"T_3fe0261a_7f97_11eb_afd8_6d84fc2c2b45row11_col9\" class=\"data row11 col9\" >-0.023655</td>\n",
       "                        <td id=\"T_3fe0261a_7f97_11eb_afd8_6d84fc2c2b45row11_col10\" class=\"data row11 col10\" >0.033555</td>\n",
       "                        <td id=\"T_3fe0261a_7f97_11eb_afd8_6d84fc2c2b45row11_col11\" class=\"data row11 col11\" >1.000000</td>\n",
       "                        <td id=\"T_3fe0261a_7f97_11eb_afd8_6d84fc2c2b45row11_col12\" class=\"data row11 col12\" >-0.336952</td>\n",
       "                        <td id=\"T_3fe0261a_7f97_11eb_afd8_6d84fc2c2b45row11_col13\" class=\"data row11 col13\" >-0.169331</td>\n",
       "                        <td id=\"T_3fe0261a_7f97_11eb_afd8_6d84fc2c2b45row11_col14\" class=\"data row11 col14\" >-0.171451</td>\n",
       "                        <td id=\"T_3fe0261a_7f97_11eb_afd8_6d84fc2c2b45row11_col15\" class=\"data row11 col15\" >0.003094</td>\n",
       "            </tr>\n",
       "            <tr>\n",
       "                        <th id=\"T_3fe0261a_7f97_11eb_afd8_6d84fc2c2b45level0_row12\" class=\"row_heading level0 row12\" >vat_status</th>\n",
       "                        <td id=\"T_3fe0261a_7f97_11eb_afd8_6d84fc2c2b45row12_col0\" class=\"data row12 col0\" >-0.043856</td>\n",
       "                        <td id=\"T_3fe0261a_7f97_11eb_afd8_6d84fc2c2b45row12_col1\" class=\"data row12 col1\" >-0.004627</td>\n",
       "                        <td id=\"T_3fe0261a_7f97_11eb_afd8_6d84fc2c2b45row12_col2\" class=\"data row12 col2\" >0.003142</td>\n",
       "                        <td id=\"T_3fe0261a_7f97_11eb_afd8_6d84fc2c2b45row12_col3\" class=\"data row12 col3\" >0.030954</td>\n",
       "                        <td id=\"T_3fe0261a_7f97_11eb_afd8_6d84fc2c2b45row12_col4\" class=\"data row12 col4\" >-0.395143</td>\n",
       "                        <td id=\"T_3fe0261a_7f97_11eb_afd8_6d84fc2c2b45row12_col5\" class=\"data row12 col5\" >-0.029139</td>\n",
       "                        <td id=\"T_3fe0261a_7f97_11eb_afd8_6d84fc2c2b45row12_col6\" class=\"data row12 col6\" >0.078275</td>\n",
       "                        <td id=\"T_3fe0261a_7f97_11eb_afd8_6d84fc2c2b45row12_col7\" class=\"data row12 col7\" >0.021221</td>\n",
       "                        <td id=\"T_3fe0261a_7f97_11eb_afd8_6d84fc2c2b45row12_col8\" class=\"data row12 col8\" >0.010730</td>\n",
       "                        <td id=\"T_3fe0261a_7f97_11eb_afd8_6d84fc2c2b45row12_col9\" class=\"data row12 col9\" >0.044711</td>\n",
       "                        <td id=\"T_3fe0261a_7f97_11eb_afd8_6d84fc2c2b45row12_col10\" class=\"data row12 col10\" >-0.092509</td>\n",
       "                        <td id=\"T_3fe0261a_7f97_11eb_afd8_6d84fc2c2b45row12_col11\" class=\"data row12 col11\" >-0.336952</td>\n",
       "                        <td id=\"T_3fe0261a_7f97_11eb_afd8_6d84fc2c2b45row12_col12\" class=\"data row12 col12\" >1.000000</td>\n",
       "                        <td id=\"T_3fe0261a_7f97_11eb_afd8_6d84fc2c2b45row12_col13\" class=\"data row12 col13\" >0.031206</td>\n",
       "                        <td id=\"T_3fe0261a_7f97_11eb_afd8_6d84fc2c2b45row12_col14\" class=\"data row12 col14\" >0.012735</td>\n",
       "                        <td id=\"T_3fe0261a_7f97_11eb_afd8_6d84fc2c2b45row12_col15\" class=\"data row12 col15\" >-0.065171</td>\n",
       "            </tr>\n",
       "            <tr>\n",
       "                        <th id=\"T_3fe0261a_7f97_11eb_afd8_6d84fc2c2b45level0_row13\" class=\"row_heading level0 row13\" >month</th>\n",
       "                        <td id=\"T_3fe0261a_7f97_11eb_afd8_6d84fc2c2b45row13_col0\" class=\"data row13 col0\" >0.041067</td>\n",
       "                        <td id=\"T_3fe0261a_7f97_11eb_afd8_6d84fc2c2b45row13_col1\" class=\"data row13 col1\" >0.001302</td>\n",
       "                        <td id=\"T_3fe0261a_7f97_11eb_afd8_6d84fc2c2b45row13_col2\" class=\"data row13 col2\" >-0.010567</td>\n",
       "                        <td id=\"T_3fe0261a_7f97_11eb_afd8_6d84fc2c2b45row13_col3\" class=\"data row13 col3\" >0.070154</td>\n",
       "                        <td id=\"T_3fe0261a_7f97_11eb_afd8_6d84fc2c2b45row13_col4\" class=\"data row13 col4\" >-0.004318</td>\n",
       "                        <td id=\"T_3fe0261a_7f97_11eb_afd8_6d84fc2c2b45row13_col5\" class=\"data row13 col5\" >-0.030964</td>\n",
       "                        <td id=\"T_3fe0261a_7f97_11eb_afd8_6d84fc2c2b45row13_col6\" class=\"data row13 col6\" >0.377461</td>\n",
       "                        <td id=\"T_3fe0261a_7f97_11eb_afd8_6d84fc2c2b45row13_col7\" class=\"data row13 col7\" >0.120557</td>\n",
       "                        <td id=\"T_3fe0261a_7f97_11eb_afd8_6d84fc2c2b45row13_col8\" class=\"data row13 col8\" >-0.141335</td>\n",
       "                        <td id=\"T_3fe0261a_7f97_11eb_afd8_6d84fc2c2b45row13_col9\" class=\"data row13 col9\" >0.000375</td>\n",
       "                        <td id=\"T_3fe0261a_7f97_11eb_afd8_6d84fc2c2b45row13_col10\" class=\"data row13 col10\" >-0.231221</td>\n",
       "                        <td id=\"T_3fe0261a_7f97_11eb_afd8_6d84fc2c2b45row13_col11\" class=\"data row13 col11\" >-0.169331</td>\n",
       "                        <td id=\"T_3fe0261a_7f97_11eb_afd8_6d84fc2c2b45row13_col12\" class=\"data row13 col12\" >0.031206</td>\n",
       "                        <td id=\"T_3fe0261a_7f97_11eb_afd8_6d84fc2c2b45row13_col13\" class=\"data row13 col13\" >1.000000</td>\n",
       "                        <td id=\"T_3fe0261a_7f97_11eb_afd8_6d84fc2c2b45row13_col14\" class=\"data row13 col14\" >0.926959</td>\n",
       "                        <td id=\"T_3fe0261a_7f97_11eb_afd8_6d84fc2c2b45row13_col15\" class=\"data row13 col15\" >0.135221</td>\n",
       "            </tr>\n",
       "            <tr>\n",
       "                        <th id=\"T_3fe0261a_7f97_11eb_afd8_6d84fc2c2b45level0_row14\" class=\"row_heading level0 row14\" >week</th>\n",
       "                        <td id=\"T_3fe0261a_7f97_11eb_afd8_6d84fc2c2b45row14_col0\" class=\"data row14 col0\" >0.022585</td>\n",
       "                        <td id=\"T_3fe0261a_7f97_11eb_afd8_6d84fc2c2b45row14_col1\" class=\"data row14 col1\" >0.000010</td>\n",
       "                        <td id=\"T_3fe0261a_7f97_11eb_afd8_6d84fc2c2b45row14_col2\" class=\"data row14 col2\" >-0.009462</td>\n",
       "                        <td id=\"T_3fe0261a_7f97_11eb_afd8_6d84fc2c2b45row14_col3\" class=\"data row14 col3\" >0.082729</td>\n",
       "                        <td id=\"T_3fe0261a_7f97_11eb_afd8_6d84fc2c2b45row14_col4\" class=\"data row14 col4\" >0.029855</td>\n",
       "                        <td id=\"T_3fe0261a_7f97_11eb_afd8_6d84fc2c2b45row14_col5\" class=\"data row14 col5\" >0.015492</td>\n",
       "                        <td id=\"T_3fe0261a_7f97_11eb_afd8_6d84fc2c2b45row14_col6\" class=\"data row14 col6\" >0.408735</td>\n",
       "                        <td id=\"T_3fe0261a_7f97_11eb_afd8_6d84fc2c2b45row14_col7\" class=\"data row14 col7\" >0.114403</td>\n",
       "                        <td id=\"T_3fe0261a_7f97_11eb_afd8_6d84fc2c2b45row14_col8\" class=\"data row14 col8\" >-0.093112</td>\n",
       "                        <td id=\"T_3fe0261a_7f97_11eb_afd8_6d84fc2c2b45row14_col9\" class=\"data row14 col9\" >0.003181</td>\n",
       "                        <td id=\"T_3fe0261a_7f97_11eb_afd8_6d84fc2c2b45row14_col10\" class=\"data row14 col10\" >-0.220550</td>\n",
       "                        <td id=\"T_3fe0261a_7f97_11eb_afd8_6d84fc2c2b45row14_col11\" class=\"data row14 col11\" >-0.171451</td>\n",
       "                        <td id=\"T_3fe0261a_7f97_11eb_afd8_6d84fc2c2b45row14_col12\" class=\"data row14 col12\" >0.012735</td>\n",
       "                        <td id=\"T_3fe0261a_7f97_11eb_afd8_6d84fc2c2b45row14_col13\" class=\"data row14 col13\" >0.926959</td>\n",
       "                        <td id=\"T_3fe0261a_7f97_11eb_afd8_6d84fc2c2b45row14_col14\" class=\"data row14 col14\" >1.000000</td>\n",
       "                        <td id=\"T_3fe0261a_7f97_11eb_afd8_6d84fc2c2b45row14_col15\" class=\"data row14 col15\" >0.175122</td>\n",
       "            </tr>\n",
       "            <tr>\n",
       "                        <th id=\"T_3fe0261a_7f97_11eb_afd8_6d84fc2c2b45level0_row15\" class=\"row_heading level0 row15\" >weekday</th>\n",
       "                        <td id=\"T_3fe0261a_7f97_11eb_afd8_6d84fc2c2b45row15_col0\" class=\"data row15 col0\" >-0.065188</td>\n",
       "                        <td id=\"T_3fe0261a_7f97_11eb_afd8_6d84fc2c2b45row15_col1\" class=\"data row15 col1\" >0.008527</td>\n",
       "                        <td id=\"T_3fe0261a_7f97_11eb_afd8_6d84fc2c2b45row15_col2\" class=\"data row15 col2\" >0.010904</td>\n",
       "                        <td id=\"T_3fe0261a_7f97_11eb_afd8_6d84fc2c2b45row15_col3\" class=\"data row15 col3\" >0.083821</td>\n",
       "                        <td id=\"T_3fe0261a_7f97_11eb_afd8_6d84fc2c2b45row15_col4\" class=\"data row15 col4\" >0.000367</td>\n",
       "                        <td id=\"T_3fe0261a_7f97_11eb_afd8_6d84fc2c2b45row15_col5\" class=\"data row15 col5\" >0.000133</td>\n",
       "                        <td id=\"T_3fe0261a_7f97_11eb_afd8_6d84fc2c2b45row15_col6\" class=\"data row15 col6\" >0.113159</td>\n",
       "                        <td id=\"T_3fe0261a_7f97_11eb_afd8_6d84fc2c2b45row15_col7\" class=\"data row15 col7\" >-0.032048</td>\n",
       "                        <td id=\"T_3fe0261a_7f97_11eb_afd8_6d84fc2c2b45row15_col8\" class=\"data row15 col8\" >-0.048831</td>\n",
       "                        <td id=\"T_3fe0261a_7f97_11eb_afd8_6d84fc2c2b45row15_col9\" class=\"data row15 col9\" >0.002299</td>\n",
       "                        <td id=\"T_3fe0261a_7f97_11eb_afd8_6d84fc2c2b45row15_col10\" class=\"data row15 col10\" >-0.065840</td>\n",
       "                        <td id=\"T_3fe0261a_7f97_11eb_afd8_6d84fc2c2b45row15_col11\" class=\"data row15 col11\" >0.003094</td>\n",
       "                        <td id=\"T_3fe0261a_7f97_11eb_afd8_6d84fc2c2b45row15_col12\" class=\"data row15 col12\" >-0.065171</td>\n",
       "                        <td id=\"T_3fe0261a_7f97_11eb_afd8_6d84fc2c2b45row15_col13\" class=\"data row15 col13\" >0.135221</td>\n",
       "                        <td id=\"T_3fe0261a_7f97_11eb_afd8_6d84fc2c2b45row15_col14\" class=\"data row15 col14\" >0.175122</td>\n",
       "                        <td id=\"T_3fe0261a_7f97_11eb_afd8_6d84fc2c2b45row15_col15\" class=\"data row15 col15\" >1.000000</td>\n",
       "            </tr>\n",
       "    </tbody></table>"
      ],
      "text/plain": [
       "<pandas.io.formats.style.Styler at 0x7fe0ce4bea20>"
      ]
     },
     "execution_count": 18,
     "metadata": {},
     "output_type": "execute_result"
    }
   ],
   "source": [
    "corr = df.corr()\n",
    "corr.style.background_gradient(cmap='coolwarm')"
   ]
  },
  {
   "cell_type": "code",
   "execution_count": 19,
   "id": "swiss-badge",
   "metadata": {},
   "outputs": [
    {
     "data": {
      "text/plain": [
       "<matplotlib.axes._subplots.AxesSubplot at 0x7fe0c4da4208>"
      ]
     },
     "execution_count": 19,
     "metadata": {},
     "output_type": "execute_result"
    },
    {
     "data": {
      "image/png": "[encoded data removed]",
      "text/plain": [
       "<Figure size 432x288 with 1 Axes>"
      ]
     },
     "metadata": {
      "needs_background": "light"
     },
     "output_type": "display_data"
    }
   ],
   "source": [
    "corr['account_code'].drop('account_code').plot(kind='barh')"
   ]
  },
  {
   "cell_type": "markdown",
   "id": "inclusive-nigeria",
   "metadata": {},
   "source": [
    "Its look like components of time is negatively correlated to the account code while only InvoiceId and VAT are positively correlated to the account code"
   ]
  },
  {
   "cell_type": "markdown",
   "id": "sixth-poultry",
   "metadata": {},
   "source": [
    "NOTE:\n",
    "As mentioned in the requirements that some inoviceID had more than one account code and for such cases the model should classify the most frequent Account code. This requirement creates a Heuristic rule which doesn't need any ML modeling to get results. To satisfy such requiremt we will keep a record of dictionary of InoviceID mapped to most frequent accound code and if such inovice ID is request we use this Heuristic disctionary to generate results (classify Invoice ID)"
   ]
  },
  {
   "cell_type": "code",
   "execution_count": 20,
   "id": "surface-ecology",
   "metadata": {},
   "outputs": [
    {
     "data": {
      "text/plain": [
       "invoiceid  account_code\n",
       "0          29               2\n",
       "           95               8\n",
       "           110              1\n",
       "1          110              3\n",
       "2          29               4\n",
       "                           ..\n",
       "2135       26              12\n",
       "2136       149              4\n",
       "2137       128              5\n",
       "2138       110              7\n",
       "2139       40               3\n",
       "Name: id, Length: 2569, dtype: int64"
      ]
     },
     "execution_count": 20,
     "metadata": {},
     "output_type": "execute_result"
    }
   ],
   "source": [
    "df.groupby(['invoiceid' ,'account_code']).count()['id']"
   ]
  },
  {
   "cell_type": "code",
   "execution_count": 21,
   "id": "refined-anthropology",
   "metadata": {},
   "outputs": [
    {
     "data": {
      "text/html": [
       "<div>\n",
       "<style scoped>\n",
       "    .dataframe tbody tr th:only-of-type {\n",
       "        vertical-align: middle;\n",
       "    }\n",
       "\n",
       "    .dataframe tbody tr th {\n",
       "        vertical-align: top;\n",
       "    }\n",
       "\n",
       "    .dataframe thead th {\n",
       "        text-align: right;\n",
       "    }\n",
       "</style>\n",
       "<table border=\"1\" class=\"dataframe\">\n",
       "  <thead>\n",
       "    <tr style=\"text-align: right;\">\n",
       "      <th></th>\n",
       "      <th>invoiceid</th>\n",
       "      <th>account_code</th>\n",
       "      <th>id</th>\n",
       "    </tr>\n",
       "  </thead>\n",
       "  <tbody>\n",
       "    <tr>\n",
       "      <th>0</th>\n",
       "      <td>0</td>\n",
       "      <td>29</td>\n",
       "      <td>2</td>\n",
       "    </tr>\n",
       "    <tr>\n",
       "      <th>1</th>\n",
       "      <td>0</td>\n",
       "      <td>95</td>\n",
       "      <td>8</td>\n",
       "    </tr>\n",
       "    <tr>\n",
       "      <th>2</th>\n",
       "      <td>0</td>\n",
       "      <td>110</td>\n",
       "      <td>1</td>\n",
       "    </tr>\n",
       "    <tr>\n",
       "      <th>3</th>\n",
       "      <td>1</td>\n",
       "      <td>110</td>\n",
       "      <td>3</td>\n",
       "    </tr>\n",
       "    <tr>\n",
       "      <th>4</th>\n",
       "      <td>2</td>\n",
       "      <td>29</td>\n",
       "      <td>4</td>\n",
       "    </tr>\n",
       "  </tbody>\n",
       "</table>\n",
       "</div>"
      ],
      "text/plain": [
       "   invoiceid  account_code  id\n",
       "0          0            29   2\n",
       "1          0            95   8\n",
       "2          0           110   1\n",
       "3          1           110   3\n",
       "4          2            29   4"
      ]
     },
     "execution_count": 21,
     "metadata": {},
     "output_type": "execute_result"
    }
   ],
   "source": [
    "grouped = df.groupby(['invoiceid' ,'account_code']).count()['id'].reset_index()\n",
    "grouped.head()"
   ]
  },
  {
   "cell_type": "code",
   "execution_count": 22,
   "id": "juvenile-siemens",
   "metadata": {},
   "outputs": [],
   "source": [
    "freq_account_code = {}\n",
    "for x in range(max(grouped['invoiceid'])):\n",
    "    if len(grouped[grouped['invoiceid']==x]) > 1:\n",
    "        row = grouped.loc[grouped[grouped['invoiceid']==x]['id'].idxmax()]\n",
    "        freq_account_code[x] = row['account_code']"
   ]
  },
  {
   "cell_type": "code",
   "execution_count": 23,
   "id": "copyrighted-radiation",
   "metadata": {},
   "outputs": [
    {
     "data": {
      "text/plain": [
       "206"
      ]
     },
     "execution_count": 23,
     "metadata": {},
     "output_type": "execute_result"
    }
   ],
   "source": [
    "len(freq_account_code)"
   ]
  },
  {
   "cell_type": "markdown",
   "id": "nervous-evanescence",
   "metadata": {},
   "source": [
    "### Experimentation time!!! , bring me my lab coat"
   ]
  },
  {
   "cell_type": "markdown",
   "id": "found-coordinate",
   "metadata": {},
   "source": [
    "Many numbers ahead, process on your on risk\n",
    "\n",
    "First, let me make my model as dumb as possible and let see what it can tell us"
   ]
  },
  {
   "cell_type": "code",
   "execution_count": 24,
   "id": "celtic-clerk",
   "metadata": {},
   "outputs": [],
   "source": [
    "df = df.reset_index(drop=True)"
   ]
  },
  {
   "cell_type": "code",
   "execution_count": 25,
   "id": "considerable-eating",
   "metadata": {},
   "outputs": [
    {
     "data": {
      "text/plain": [
       "<matplotlib.axes._subplots.AxesSubplot at 0x7fe0c4ed3908>"
      ]
     },
     "execution_count": 25,
     "metadata": {},
     "output_type": "execute_result"
    },
    {
     "data": {
      "image/png": "[encoded data removed]",
      "text/plain": [
       "<Figure size 1728x432 with 1 Axes>"
      ]
     },
     "metadata": {
      "needs_background": "light"
     },
     "output_type": "display_data"
    }
   ],
   "source": [
    "X = df.drop(columns=['account_code', 'billdate', 'id'])\n",
    "y = df['account_code']\n",
    "y.groupby(y).count().plot.bar(figsize=(24,6))"
   ]
  },
  {
   "cell_type": "markdown",
   "id": "obvious-suspension",
   "metadata": {},
   "source": [
    "Since we already habve heuristic rule for certain invoice ids, hence we will remove all such inovices. also we will remove any classes which dont have more than 5 sampels\n"
   ]
  },
  {
   "cell_type": "code",
   "execution_count": 26,
   "id": "chemical-cowboy",
   "metadata": {},
   "outputs": [
    {
     "data": {
      "text/plain": [
       "<matplotlib.axes._subplots.AxesSubplot at 0x7fe0c4b78710>"
      ]
     },
     "execution_count": 26,
     "metadata": {},
     "output_type": "execute_result"
    },
    {
     "data": {
      "image/png": "[encoded data removed]",
      "text/plain": [
       "<Figure size 1728x432 with 1 Axes>"
      ]
     },
     "metadata": {
      "needs_background": "light"
     },
     "output_type": "display_data"
    }
   ],
   "source": [
    "df_temp = df.drop(df[df['invoiceid'].isin(list(freq_account_code.keys()))].index)\n",
    "df_temp = df_temp.drop(df_temp.groupby('account_code').filter(lambda x: len(x) < 5).index)\n",
    "X = df_temp.drop(columns=['account_code', 'billdate', 'id'])\n",
    "y = df_temp['account_code']\n",
    "y.groupby(y).count().plot.bar(figsize=(24,6))"
   ]
  },
  {
   "cell_type": "code",
   "execution_count": 27,
   "id": "ignored-exposure",
   "metadata": {},
   "outputs": [
    {
     "data": {
      "text/plain": [
       "(18664, 18)"
      ]
     },
     "execution_count": 27,
     "metadata": {},
     "output_type": "execute_result"
    }
   ],
   "source": [
    "df.shape"
   ]
  },
  {
   "cell_type": "markdown",
   "id": "transparent-monte",
   "metadata": {},
   "source": [
    "We need to fix these distributions through sampling. But remember sampling should only be done on training data! "
   ]
  },
  {
   "cell_type": "code",
   "execution_count": 28,
   "id": "agreed-catalog",
   "metadata": {},
   "outputs": [
    {
     "name": "stdout",
     "output_type": "stream",
     "text": [
      "Accuracy: 0.2617337778917671\n",
      "precision: 0.06850457048949689\n",
      "recall: 0.2617337778917671\n",
      "F1 score: 0.10858799485254532\n",
      "------------------------------\n"
     ]
    },
    {
     "name": "stderr",
     "output_type": "stream",
     "text": [
      "/home/ec2-user/anaconda3/envs/python3/lib/python3.6/site-packages/sklearn/metrics/_classification.py:1245: UndefinedMetricWarning: Precision is ill-defined and being set to 0.0 in labels with no predicted samples. Use `zero_division` parameter to control this behavior.\n",
      "  _warn_prf(average, modifier, msg_start, len(result))\n"
     ]
    },
    {
     "data": {
      "text/plain": [
       "0.10858799485254532"
      ]
     },
     "execution_count": 28,
     "metadata": {},
     "output_type": "execute_result"
    }
   ],
   "source": [
    "dummy_clf = DummyClassifier(strategy=\"most_frequent\")\n",
    "dummy_clf.fit(X, y)\n",
    "evaluate_model(y, dummy_clf.predict(X))"
   ]
  },
  {
   "cell_type": "markdown",
   "id": "fixed-filter",
   "metadata": {},
   "source": [
    "Not a good score. But this is our base score, we need to have results better than our dummy classifier which used strategy as \"most_frequent\" which blindly predict majority class."
   ]
  },
  {
   "cell_type": "code",
   "execution_count": 29,
   "id": "guilty-webcam",
   "metadata": {},
   "outputs": [
    {
     "name": "stdout",
     "output_type": "stream",
     "text": [
      "Train: [   71    72    73 ... 15593 15594 15595] Test: [    0     1     2 ... 14280 14281 14282]\n",
      "==============================\n",
      "Split 1\n",
      "==============================\n",
      "Classifiers:  DummyClassifier\n",
      "Following is an evaluation report:\n",
      "Accuracy: 0.26178111175226004\n",
      "precision: 0.06852935047024926\n",
      "recall: 0.26178111175226004\n",
      "F1 score: 0.10862319911427622\n",
      "------------------------------\n",
      "Classifiers:  KNeighborsClassifier\n",
      "Following is an evaluation report:\n"
     ]
    },
    {
     "name": "stderr",
     "output_type": "stream",
     "text": [
      "/home/ec2-user/anaconda3/envs/python3/lib/python3.6/site-packages/sklearn/metrics/_classification.py:1245: UndefinedMetricWarning: Precision is ill-defined and being set to 0.0 in labels with no predicted samples. Use `zero_division` parameter to control this behavior.\n",
      "  _warn_prf(average, modifier, msg_start, len(result))\n"
     ]
    },
    {
     "name": "stdout",
     "output_type": "stream",
     "text": [
      "Accuracy: 0.38526639738411234\n",
      "precision: 0.3800279053684338\n",
      "recall: 0.38526639738411234\n",
      "F1 score: 0.3692418221055568\n",
      "------------------------------\n",
      "Classifiers:  DecisionTreeClassifier\n",
      "Following is an evaluation report:\n",
      "Accuracy: 0.5308713214079631\n",
      "precision: 0.7077682409558157\n",
      "recall: 0.5308713214079631\n",
      "F1 score: 0.5606316496166759\n",
      "------------------------------\n"
     ]
    },
    {
     "name": "stderr",
     "output_type": "stream",
     "text": [
      "/home/ec2-user/anaconda3/envs/python3/lib/python3.6/site-packages/sklearn/metrics/_classification.py:1245: UndefinedMetricWarning: Precision is ill-defined and being set to 0.0 in labels with no predicted samples. Use `zero_division` parameter to control this behavior.\n",
      "  _warn_prf(average, modifier, msg_start, len(result))\n",
      "/home/ec2-user/anaconda3/envs/python3/lib/python3.6/site-packages/sklearn/metrics/_classification.py:1245: UndefinedMetricWarning: Precision is ill-defined and being set to 0.0 in labels with no predicted samples. Use `zero_division` parameter to control this behavior.\n",
      "  _warn_prf(average, modifier, msg_start, len(result))\n"
     ]
    },
    {
     "name": "stdout",
     "output_type": "stream",
     "text": [
      "Classifiers:  RandomForestClassifier\n",
      "Following is an evaluation report:\n",
      "Accuracy: 0.5714560492402385\n",
      "precision: 0.7192904068141691\n",
      "recall: 0.5714560492402385\n",
      "F1 score: 0.5587053724871557\n",
      "------------------------------\n",
      "Train: [    0     1     2 ... 15593 15594 15595] Test: [   71    72    73 ... 15361 15362 15363]\n",
      "==============================\n",
      "Split 2\n",
      "==============================\n",
      "Classifiers:  DummyClassifier\n",
      "Following is an evaluation report:\n",
      "Accuracy: 0.26178111175226004\n",
      "precision: 0.06852935047024926\n",
      "recall: 0.26178111175226004\n",
      "F1 score: 0.10862319911427622\n",
      "------------------------------\n",
      "Classifiers:  KNeighborsClassifier\n",
      "Following is an evaluation report:\n"
     ]
    },
    {
     "name": "stderr",
     "output_type": "stream",
     "text": [
      "/home/ec2-user/anaconda3/envs/python3/lib/python3.6/site-packages/sklearn/metrics/_classification.py:1245: UndefinedMetricWarning: Precision is ill-defined and being set to 0.0 in labels with no predicted samples. Use `zero_division` parameter to control this behavior.\n",
      "  _warn_prf(average, modifier, msg_start, len(result))\n",
      "/home/ec2-user/anaconda3/envs/python3/lib/python3.6/site-packages/sklearn/metrics/_classification.py:1245: UndefinedMetricWarning: Precision is ill-defined and being set to 0.0 in labels with no predicted samples. Use `zero_division` parameter to control this behavior.\n",
      "  _warn_prf(average, modifier, msg_start, len(result))\n"
     ]
    },
    {
     "name": "stdout",
     "output_type": "stream",
     "text": [
      "Accuracy: 0.5429890363531449\n",
      "precision: 0.5344581491364725\n",
      "recall: 0.5429890363531449\n",
      "F1 score: 0.5240686739083659\n",
      "------------------------------\n",
      "Classifiers:  DecisionTreeClassifier\n",
      "Following is an evaluation report:\n",
      "Accuracy: 0.8834391229082516\n",
      "precision: 0.8999648809718674\n",
      "recall: 0.8834391229082516\n",
      "F1 score: 0.8819233355793833\n",
      "------------------------------\n"
     ]
    },
    {
     "name": "stderr",
     "output_type": "stream",
     "text": [
      "/home/ec2-user/anaconda3/envs/python3/lib/python3.6/site-packages/sklearn/metrics/_classification.py:1245: UndefinedMetricWarning: Precision is ill-defined and being set to 0.0 in labels with no predicted samples. Use `zero_division` parameter to control this behavior.\n",
      "  _warn_prf(average, modifier, msg_start, len(result))\n",
      "/home/ec2-user/anaconda3/envs/python3/lib/python3.6/site-packages/sklearn/metrics/_classification.py:1245: UndefinedMetricWarning: Precision is ill-defined and being set to 0.0 in labels with no predicted samples. Use `zero_division` parameter to control this behavior.\n",
      "  _warn_prf(average, modifier, msg_start, len(result))\n"
     ]
    },
    {
     "name": "stdout",
     "output_type": "stream",
     "text": [
      "Classifiers:  RandomForestClassifier\n",
      "Following is an evaluation report:\n",
      "Accuracy: 0.86266589728794\n",
      "precision: 0.867437792762009\n",
      "recall: 0.86266589728794\n",
      "F1 score: 0.8517660231949049\n",
      "------------------------------\n",
      "Train: [    0     1     2 ... 15361 15362 15363] Test: [  421   426   623 ... 15593 15594 15595]\n",
      "==============================\n",
      "Split 3\n",
      "==============================\n",
      "Classifiers:  DummyClassifier\n",
      "Following is an evaluation report:\n",
      "Accuracy: 0.26163909195844554\n",
      "precision: 0.06845501444083991\n",
      "recall: 0.26163909195844554\n",
      "F1 score: 0.10851758617367672\n",
      "------------------------------\n",
      "Classifiers:  KNeighborsClassifier\n",
      "Following is an evaluation report:\n"
     ]
    },
    {
     "name": "stderr",
     "output_type": "stream",
     "text": [
      "/home/ec2-user/anaconda3/envs/python3/lib/python3.6/site-packages/sklearn/metrics/_classification.py:1245: UndefinedMetricWarning: Precision is ill-defined and being set to 0.0 in labels with no predicted samples. Use `zero_division` parameter to control this behavior.\n",
      "  _warn_prf(average, modifier, msg_start, len(result))\n",
      "/home/ec2-user/anaconda3/envs/python3/lib/python3.6/site-packages/sklearn/metrics/_classification.py:1245: UndefinedMetricWarning: Precision is ill-defined and being set to 0.0 in labels with no predicted samples. Use `zero_division` parameter to control this behavior.\n",
      "  _warn_prf(average, modifier, msg_start, len(result))\n"
     ]
    },
    {
     "name": "stdout",
     "output_type": "stream",
     "text": [
      "Accuracy: 0.31762216237014235\n",
      "precision: 0.36051939243902975\n",
      "recall: 0.31762216237014235\n",
      "F1 score: 0.31477871279899083\n",
      "------------------------------\n",
      "Classifiers:  DecisionTreeClassifier\n",
      "Following is an evaluation report:\n",
      "Accuracy: 0.3755290496344748\n",
      "precision: 0.6561914686647004\n",
      "recall: 0.3755290496344748\n",
      "F1 score: 0.3684776455267253\n",
      "------------------------------\n"
     ]
    },
    {
     "name": "stderr",
     "output_type": "stream",
     "text": [
      "/home/ec2-user/anaconda3/envs/python3/lib/python3.6/site-packages/sklearn/metrics/_classification.py:1245: UndefinedMetricWarning: Precision is ill-defined and being set to 0.0 in labels with no predicted samples. Use `zero_division` parameter to control this behavior.\n",
      "  _warn_prf(average, modifier, msg_start, len(result))\n",
      "/home/ec2-user/anaconda3/envs/python3/lib/python3.6/site-packages/sklearn/metrics/_classification.py:1245: UndefinedMetricWarning: Precision is ill-defined and being set to 0.0 in labels with no predicted samples. Use `zero_division` parameter to control this behavior.\n",
      "  _warn_prf(average, modifier, msg_start, len(result))\n"
     ]
    },
    {
     "name": "stdout",
     "output_type": "stream",
     "text": [
      "Classifiers:  RandomForestClassifier\n",
      "Following is an evaluation report:\n",
      "Accuracy: 0.42458637937668336\n",
      "precision: 0.6339309545884985\n",
      "recall: 0.42458637937668336\n",
      "F1 score: 0.3857587618256628\n",
      "------------------------------\n",
      "Average F1 score for Random forest is 0.5987433858359078\n"
     ]
    },
    {
     "name": "stderr",
     "output_type": "stream",
     "text": [
      "/home/ec2-user/anaconda3/envs/python3/lib/python3.6/site-packages/sklearn/metrics/_classification.py:1245: UndefinedMetricWarning: Precision is ill-defined and being set to 0.0 in labels with no predicted samples. Use `zero_division` parameter to control this behavior.\n",
      "  _warn_prf(average, modifier, msg_start, len(result))\n"
     ]
    }
   ],
   "source": [
    "# using StratifiedKFold which balance data samples between each train and test splits equally w.r.t target classes\n",
    "\n",
    "# testing our main classifiers without over/under smapling techniques\n",
    "index = 0\n",
    "sss = StratifiedKFold(n_splits=3)\n",
    "clf_f_scores = []\n",
    "for train_index, test_index in sss.split(X, y):\n",
    "    index+=1\n",
    "    print(\"Train:\", train_index, \"Test:\", test_index)\n",
    "    print(\"=\"*30)\n",
    "    print(\"Split {}\".format(index))\n",
    "    print(\"=\"*30)\n",
    "    original_Xtrain, original_Xtest = X.iloc[train_index], X.iloc[test_index]\n",
    "    original_ytrain, original_ytest = y.iloc[train_index], y.iloc[test_index]\n",
    "    clf_f_scores.append(evaluate_classfiers(original_Xtrain, original_ytrain, original_Xtest, original_ytest))\n",
    "\n",
    "randforst_f_scores = []\n",
    "for x in clf_f_scores:\n",
    "    randforst_f_scores.append(x['RandomForestClassifier'])\n",
    "\n",
    "print('Average F1 score for Random forest is {}'.format(np.mean(randforst_f_scores)))"
   ]
  },
  {
   "cell_type": "markdown",
   "id": "minute-qualification",
   "metadata": {},
   "source": [
    "From above results its seems like random forest perform well with average f1 score = ~0.59 "
   ]
  },
  {
   "cell_type": "code",
   "execution_count": 30,
   "id": "quarterly-specification",
   "metadata": {},
   "outputs": [
    {
     "name": "stdout",
     "output_type": "stream",
     "text": [
      "Train: [   71    72    73 ... 15593 15594 15595] Test: [    0     1     2 ... 14280 14281 14282]\n",
      "==============================\n",
      "Split 1\n",
      "==============================\n",
      "Accuracy: 0.6353144835545297\n",
      "precision: 0.7572256896796005\n",
      "recall: 0.6353144835545297\n",
      "F1 score: 0.6271097466165458\n",
      "------------------------------\n",
      "Train: [    0     1     2 ... 15593 15594 15595] Test: [   71    72    73 ... 15361 15362 15363]\n",
      "==============================\n",
      "Split 2\n",
      "==============================\n"
     ]
    },
    {
     "name": "stderr",
     "output_type": "stream",
     "text": [
      "/home/ec2-user/anaconda3/envs/python3/lib/python3.6/site-packages/sklearn/metrics/_classification.py:1245: UndefinedMetricWarning: Precision is ill-defined and being set to 0.0 in labels with no predicted samples. Use `zero_division` parameter to control this behavior.\n",
      "  _warn_prf(average, modifier, msg_start, len(result))\n"
     ]
    },
    {
     "name": "stdout",
     "output_type": "stream",
     "text": [
      "Accuracy: 0.8878630505866513\n",
      "precision: 0.8947881815450407\n",
      "recall: 0.8878630505866513\n",
      "F1 score: 0.879005178351478\n",
      "------------------------------\n",
      "Train: [    0     1     2 ... 15361 15362 15363] Test: [  421   426   623 ... 15593 15594 15595]\n",
      "==============================\n",
      "Split 3\n",
      "==============================\n"
     ]
    },
    {
     "name": "stderr",
     "output_type": "stream",
     "text": [
      "/home/ec2-user/anaconda3/envs/python3/lib/python3.6/site-packages/sklearn/metrics/_classification.py:1245: UndefinedMetricWarning: Precision is ill-defined and being set to 0.0 in labels with no predicted samples. Use `zero_division` parameter to control this behavior.\n",
      "  _warn_prf(average, modifier, msg_start, len(result))\n"
     ]
    },
    {
     "name": "stdout",
     "output_type": "stream",
     "text": [
      "Accuracy: 0.5555983070411696\n",
      "precision: 0.7490714642809019\n",
      "recall: 0.5555983070411696\n",
      "F1 score: 0.5231615947902623\n",
      "------------------------------\n",
      "------------------------------\n",
      "Average F1 score for Random forest is 0.6764255065860953\n",
      "------------------------------\n"
     ]
    },
    {
     "name": "stderr",
     "output_type": "stream",
     "text": [
      "/home/ec2-user/anaconda3/envs/python3/lib/python3.6/site-packages/sklearn/metrics/_classification.py:1245: UndefinedMetricWarning: Precision is ill-defined and being set to 0.0 in labels with no predicted samples. Use `zero_division` parameter to control this behavior.\n",
      "  _warn_prf(average, modifier, msg_start, len(result))\n"
     ]
    }
   ],
   "source": [
    "# testing our main classifiers without over/under smapling techniques\n",
    "index = 0\n",
    "sss = StratifiedKFold(n_splits=3)\n",
    "clf_f_scores = []\n",
    "for train_index, test_index in sss.split(X, y):\n",
    "    index+=1\n",
    "    print(\"Train:\", train_index, \"Test:\", test_index)\n",
    "    print(\"=\"*30)\n",
    "    print(\"Split {}\".format(index))\n",
    "    print(\"=\"*30)\n",
    "    original_Xtrain, original_Xtest = X.iloc[train_index], X.iloc[test_index]\n",
    "    original_ytrain, original_ytest = y.iloc[train_index], y.iloc[test_index]\n",
    "    clf = OneVsRestClassifier(RandomForestClassifier(n_estimators=500)).fit(original_Xtrain, original_ytrain)\n",
    "    clf_f_scores.append(evaluate_model(original_ytest, clf.predict(original_Xtest)))\n",
    "\n",
    "print('-'*30)\n",
    "print('Average F1 score for Random forest is {}'.format(np.mean(clf_f_scores)))\n",
    "print('-'*30)"
   ]
  },
  {
   "cell_type": "code",
   "execution_count": 31,
   "id": "damaged-petersburg",
   "metadata": {},
   "outputs": [
    {
     "name": "stdout",
     "output_type": "stream",
     "text": [
      "Train: [   71    72    73 ... 15593 15594 15595] Test: [    0     1     2 ... 14280 14281 14282]\n",
      "==============================\n",
      "Split 1\n",
      "==============================\n"
     ]
    },
    {
     "name": "stderr",
     "output_type": "stream",
     "text": [
      "/home/ec2-user/anaconda3/envs/python3/lib/python3.6/site-packages/imblearn/under_sampling/_prototype_generation/_cluster_centroids.py:172: ConvergenceWarning: Number of distinct clusters (415) found smaller than n_clusters (800). Possibly due to duplicate points in X.\n",
      "  self.estimator_.fit(_safe_indexing(X, target_class_indices))\n"
     ]
    },
    {
     "name": "stdout",
     "output_type": "stream",
     "text": [
      "Accuracy: 0.6262742835160607\n",
      "precision: 0.7681879893785158\n",
      "recall: 0.6262742835160607\n",
      "F1 score: 0.631931645224733\n",
      "------------------------------\n",
      "Train: [    0     1     2 ... 15593 15594 15595] Test: [   71    72    73 ... 15361 15362 15363]\n",
      "==============================\n",
      "Split 2\n",
      "==============================\n"
     ]
    },
    {
     "name": "stderr",
     "output_type": "stream",
     "text": [
      "/home/ec2-user/anaconda3/envs/python3/lib/python3.6/site-packages/sklearn/metrics/_classification.py:1245: UndefinedMetricWarning: Precision is ill-defined and being set to 0.0 in labels with no predicted samples. Use `zero_division` parameter to control this behavior.\n",
      "  _warn_prf(average, modifier, msg_start, len(result))\n",
      "/home/ec2-user/anaconda3/envs/python3/lib/python3.6/site-packages/imblearn/under_sampling/_prototype_generation/_cluster_centroids.py:172: ConvergenceWarning: Number of distinct clusters (785) found smaller than n_clusters (800). Possibly due to duplicate points in X.\n",
      "  self.estimator_.fit(_safe_indexing(X, target_class_indices))\n"
     ]
    },
    {
     "name": "stdout",
     "output_type": "stream",
     "text": [
      "Accuracy: 0.8878630505866513\n",
      "precision: 0.9039127842264478\n",
      "recall: 0.8878630505866513\n",
      "F1 score: 0.887643060282878\n",
      "------------------------------\n",
      "Train: [    0     1     2 ... 15361 15362 15363] Test: [  421   426   623 ... 15593 15594 15595]\n",
      "==============================\n",
      "Split 3\n",
      "==============================\n"
     ]
    },
    {
     "name": "stderr",
     "output_type": "stream",
     "text": [
      "/home/ec2-user/anaconda3/envs/python3/lib/python3.6/site-packages/sklearn/metrics/_classification.py:1245: UndefinedMetricWarning: Precision is ill-defined and being set to 0.0 in labels with no predicted samples. Use `zero_division` parameter to control this behavior.\n",
      "  _warn_prf(average, modifier, msg_start, len(result))\n",
      "/home/ec2-user/anaconda3/envs/python3/lib/python3.6/site-packages/imblearn/under_sampling/_prototype_generation/_cluster_centroids.py:172: ConvergenceWarning: Number of distinct clusters (535) found smaller than n_clusters (800). Possibly due to duplicate points in X.\n",
      "  self.estimator_.fit(_safe_indexing(X, target_class_indices))\n"
     ]
    },
    {
     "name": "stdout",
     "output_type": "stream",
     "text": [
      "Accuracy: 0.47941515967679876\n",
      "precision: 0.7615841438135258\n",
      "recall: 0.47941515967679876\n",
      "F1 score: 0.4916187585630141\n",
      "------------------------------\n",
      "------------------------------\n",
      "Average F1 score for Random forest is 0.670397821356875\n",
      "------------------------------\n"
     ]
    },
    {
     "name": "stderr",
     "output_type": "stream",
     "text": [
      "/home/ec2-user/anaconda3/envs/python3/lib/python3.6/site-packages/sklearn/metrics/_classification.py:1245: UndefinedMetricWarning: Precision is ill-defined and being set to 0.0 in labels with no predicted samples. Use `zero_division` parameter to control this behavior.\n",
      "  _warn_prf(average, modifier, msg_start, len(result))\n"
     ]
    }
   ],
   "source": [
    "ratio_dict = {}\n",
    "index = 0\n",
    "clf_f_scores = []\n",
    "sss = StratifiedKFold(n_splits=3)\n",
    "for train_index, test_index in sss.split(X, y):\n",
    "    index+=1\n",
    "    print(\"Train:\", train_index, \"Test:\", test_index)\n",
    "    print(\"=\"*30)\n",
    "    print(\"Split {}\".format(index))\n",
    "    print(\"=\"*30)\n",
    "    original_Xtrain, original_Xtest = X.iloc[train_index], X.iloc[test_index]\n",
    "    original_ytrain, original_ytest = y.iloc[train_index], y.iloc[test_index]\n",
    "    cc = ClusterCentroids(sampling_strategy={47:800, 110:800}, random_state=42)\n",
    "    X_res, y_res = cc.fit_resample(original_Xtrain, original_ytrain)\n",
    "    X_resampled, y_resampled = SMOTE(sampling_strategy='not majority' ,k_neighbors=2).fit_resample(X_res, y_res)\n",
    "    clf = OneVsRestClassifier(RandomForestClassifier()).fit(X_resampled, y_resampled)\n",
    "    clf_f_scores.append(evaluate_model(original_ytest, clf.predict(original_Xtest)))\n",
    "\n",
    "print('-'*30)\n",
    "print('Average F1 score for Random forest is {}'.format(np.mean(clf_f_scores)))\n",
    "print('-'*30)"
   ]
  },
  {
   "cell_type": "markdown",
   "id": "qualified-alabama",
   "metadata": {},
   "source": [
    "Lets find which feature contributes more in predicting account code"
   ]
  },
  {
   "cell_type": "code",
   "execution_count": 32,
   "id": "identical-section",
   "metadata": {},
   "outputs": [
    {
     "data": {
      "text/plain": [
       "<BarContainer object of 15 artists>"
      ]
     },
     "execution_count": 32,
     "metadata": {},
     "output_type": "execute_result"
    },
    {
     "data": {
      "image/png": "[encoded data removed]",
      "text/plain": [
       "<Figure size 1728x432 with 1 Axes>"
      ]
     },
     "metadata": {
      "needs_background": "light"
     },
     "output_type": "display_data"
    }
   ],
   "source": [
    "plt.subplots(figsize=(24,6))\n",
    "clf = RandomForestClassifier().fit(original_Xtrain, original_ytrain)\n",
    "plt.bar(list(original_Xtrain.columns), clf.feature_importances_)"
   ]
  },
  {
   "cell_type": "markdown",
   "id": "boolean-amount",
   "metadata": {},
   "source": [
    "### Conclusion"
   ]
  },
  {
   "cell_type": "markdown",
   "id": "proper-decade",
   "metadata": {},
   "source": [
    "From EDA we know many things earlier about the problem and possible solutions.\n",
    "\n",
    "- A provided dataset is imbalanced with highly skewed to two classes.\n",
    "- The provided dataset implies multiclass problem\n",
    "- Some of the classes sampels were very few which would not contribute much to the model creation which was removed in further processing\n",
    "-  Most of the data is cateogrical which need to be stored someplace to map incoming request to model frendly format\n",
    "- It was an obvious choice to choose a non linear model for this problem which is why I choose Random forest. Another reason is due to the feature set, decision trees tend to work better on categorical data\n",
    "- As data was imbalanced, we need to apply sampling methods to remove the high biasness for that we used two classical methods undersampling with random mechanism and oversampling with SMOTE.\n",
    "- From the observation and experiments it was conluded that by far we get almost ~0.68 F1score from Randoforest model with One Vs Rest classifier architecutre for this dataset.\n",
    "- Methods like oversampling and undersampling doesn't provide better results which is interesting observation and thus we didn't use them to make our model simpler\n",
    "- Comparatively, there was a major difference between with and without undersampling and oversampling scores, were 0.66 and 0.68 (F1 scores). \n",
    "\n",
    "Fianlly it could be said the minority class has some unique characteristics captured by random forest to predict the right calss. That feature would definitely be **customer name**\n",
    "\n",
    "**NOTE:**\n",
    "I could try more models and different sampling methods but for the assignment purpose I guess I provided enough information which can prove my analysis and problem solving skills.\n",
    "Moreover I productionize my solution on AWS cloud and make it available for everyone to use. Making this assignement as MVP\n",
    "\n",
    "I really want to get a feedback from you guys on my work and my methods. Lastly, sorry for inscript jokes its just how I work and make my reader to enjoy my work :)"
   ]
  },
  {
   "cell_type": "code",
   "execution_count": null,
   "id": "incident-belgium",
   "metadata": {},
   "outputs": [],
   "source": []
  }
 ],
 "metadata": {
  "kernelspec": {
   "display_name": "conda_python3",
   "language": "python",
   "name": "conda_python3"
  },
  "language_info": {
   "codemirror_mode": {
    "name": "ipython",
    "version": 3
   },
   "file_extension": ".py",
   "mimetype": "text/x-python",
   "name": "python",
   "nbconvert_exporter": "python",
   "pygments_lexer": "ipython3",
   "version": "3.6.10"
  }
 },
 "nbformat": 4,
 "nbformat_minor": 5
}
